{
 "cells": [
  {
   "cell_type": "code",
   "execution_count": 41,
   "metadata": {
    "collapsed": true
   },
   "outputs": [],
   "source": [
    "#coding:utf8\n",
    "import pandas as pd\n",
    "import numpy as np"
   ]
  },
  {
   "cell_type": "code",
   "execution_count": 56,
   "metadata": {
    "collapsed": false
   },
   "outputs": [
    {
     "name": "stdout",
     "output_type": "stream",
     "text": [
      "<class 'pandas.core.frame.DataFrame'>\nInt64Index: 676 entries, 0 to 675\nData columns (total 10 columns):\nuin                    676 non-null int64\nvisit_day_num          676 non-null int64\npv_num                 676 non-null int64\nsession_num            676 non-null int64\nurl_num                676 non-null int64\nviewtime_7             676 non-null int64\nlast_visit_day         676 non-null int64\nis_pv_apply            676 non-null int64\nis_pv_apply_sucdess    676 non-null int64\nis_online_buy          676 non-null int64\ndtypes: int64(10)\nmemory usage: 58.1 KB\nNone\n"
     ]
    }
   ],
   "source": [
    "dir_path = r'E:/企点工作/20171011 非法企业售前识别/'\n",
    "srcfile = dir_path + '/bad_uin_pv.csv'\n",
    "pv = pd.read_csv(srcfile.decode('utf8').encode('gbk'))\n",
    "pv.drop_duplicates(inplace=True)\n",
    "pv.drop(['qq','f_create_day','product','is_bad_uin'], axis=1, inplace=True)\n",
    "print pv.info()"
   ]
  },
  {
   "cell_type": "code",
   "execution_count": 43,
   "metadata": {
    "collapsed": true
   },
   "outputs": [
    {
     "name": "stdout",
     "output_type": "stream",
     "text": [
      "<class 'pandas.core.frame.DataFrame'>\nInt64Index: 1428 entries, 0 to 1877\nData columns (total 6 columns):\nqq        1428 non-null int64\nage       1428 non-null int64\nedu       1428 non-null int64\nincome    1428 non-null int64\nsex       1428 non-null int64\ncity      1428 non-null int64\ndtypes: int64(6)\nmemory usage: 78.1 KB\nNone\n"
     ]
    }
   ],
   "source": [
    "srcfile = dir_path + '/res_interal_bad_uin_20171012'\n",
    "face = pd.read_csv(srcfile.decode('utf8').encode('gbk'), header=None, names=['qq','age','edu','income','sex','city'])\n",
    "face.drop_duplicates(inplace=True)\n",
    "print face.info()"
   ]
  },
  {
   "cell_type": "code",
   "execution_count": 44,
   "metadata": {
    "collapsed": false
   },
   "outputs": [
    {
     "name": "stdout",
     "output_type": "stream",
     "text": [
      "<class 'pandas.core.frame.DataFrame'>\nInt64Index: 1878 entries, 0 to 1877\nData columns (total 5 columns):\nf_uin           1878 non-null int64\nf_create_day    1878 non-null int64\nf_admin_qq      1878 non-null int64\nf_product       1878 non-null object\nf_bad_uin       1878 non-null int64\ndtypes: int64(4), object(1)\nmemory usage: 88.0+ KB\nNone\n"
     ]
    }
   ],
   "source": [
    "srcfile = dir_path + '/inter_bad_uin_20171011'\n",
    "bad_uin = pd.read_csv(srcfile.decode('utf8').encode('gbk'), sep='\\t')\n",
    "bad_uin.drop_duplicates(inplace=True)\n",
    "print bad_uin.info()"
   ]
  },
  {
   "cell_type": "code",
   "execution_count": 45,
   "metadata": {},
   "outputs": [
    {
     "data": {
      "text/plain": [
       "569"
      ]
     },
     "execution_count": 45,
     "metadata": {},
     "output_type": "execute_result"
    }
   ],
   "source": [
    "len(pv['qq'].unique())"
   ]
  },
  {
   "cell_type": "code",
   "execution_count": 61,
   "metadata": {
    "collapsed": true
   },
   "outputs": [
    {
     "name": "stdout",
     "output_type": "stream",
     "text": [
      "<class 'pandas.core.frame.DataFrame'>\nInt64Index: 1878 entries, 0 to 1877\nData columns (total 19 columns):\nf_uin                  1878 non-null int64\nf_create_day           1878 non-null int64\nf_admin_qq             1878 non-null int64\nf_product              1878 non-null object\nf_bad_uin              1878 non-null int64\nage                    1878 non-null int64\nedu                    1878 non-null int64\nincome                 1878 non-null int64\nsex                    1878 non-null int64\ncity                   1878 non-null int64\nvisit_day_num          676 non-null float64\npv_num                 676 non-null float64\nsession_num            676 non-null float64\nurl_num                676 non-null float64\nviewtime_7             676 non-null float64\nlast_visit_day         676 non-null float64\nis_pv_apply            676 non-null float64\nis_pv_apply_sucdess    676 non-null float64\nis_online_buy          676 non-null float64\ndtypes: float64(9), int64(9), object(1)\nmemory usage: 293.4+ KB\n"
     ]
    }
   ],
   "source": [
    "all = pd.merge(bad_uin, face, how='left', left_on='f_admin_qq', right_on='qq')\n",
    "\n",
    "all = pd.merge(all, pv, how='left', left_on='f_uin', right_on='uin')\n",
    "all = all.drop(['qq', 'uin'], axis=1)\n",
    "all.info()"
   ]
  },
  {
   "cell_type": "code",
   "execution_count": 87,
   "metadata": {
    "collapsed": true
   },
   "outputs": [],
   "source": [
    "# 只要有一天访问数据，就算是有PV数据\n",
    "all['is_has_pv'] = all['visit_day_num']>0\n",
    "all['is_has_pv']\n",
    "\n",
    "# 只要有一个画像数据，就算是有画像数据\n",
    "all['is_has_face']  = np.any(all[['age','sex','edu','income','city']]>0, axis=1)\n",
    "sum(all['is_has_face'])\n",
    "\n",
    "# 看QQ是否重复 \n",
    "all['is_qq_dup'] = 0\n",
    "all.loc[ all['f_admin_qq'].duplicated(), 'is_qq_dup'] = 1"
   ]
  },
  {
   "cell_type": "code",
   "execution_count": 88,
   "metadata": {},
   "outputs": [],
   "source": [
    "out_file = dir_path + '/all_bad_uin_20171011.csv'\n",
    "all.to_csv(out_file.decode('utf8').encode('gbk'))"
   ]
  },
  {
   "cell_type": "code",
   "execution_count": 91,
   "metadata": {},
   "outputs": [
    {
     "name": "stdout",
     "output_type": "stream",
     "text": [
      "<class 'pandas.core.frame.DataFrame'>\nInt64Index: 1878 entries, 0 to 1877\nData columns (total 22 columns):\nf_uin                  1878 non-null int64\nf_create_day           1878 non-null int64\nf_admin_qq             1878 non-null int64\nf_product              1878 non-null object\nf_bad_uin              1878 non-null int64\nage                    1878 non-null int64\nedu                    1878 non-null int64\nincome                 1878 non-null int64\nsex                    1878 non-null int64\ncity                   1878 non-null int64\nvisit_day_num          676 non-null float64\npv_num                 676 non-null float64\nsession_num            676 non-null float64\nurl_num                676 non-null float64\nviewtime_7             676 non-null float64\nlast_visit_day         676 non-null float64\nis_pv_apply            676 non-null float64\nis_pv_apply_sucdess    676 non-null float64\nis_online_buy          676 non-null float64\nis_has_pv              1878 non-null bool\nis_has_face            1878 non-null bool\nis_qq_dup              1878 non-null int64\ndtypes: bool(2), float64(9), int64(10), object(1)\nmemory usage: 391.8+ KB\n"
     ]
    }
   ],
   "source": [
    "all.info()"
   ]
  },
  {
   "cell_type": "code",
   "execution_count": 99,
   "metadata": {
    "collapsed": false
   },
   "outputs": [
    {
     "name": "stdout",
     "output_type": "stream",
     "text": [
      "total_num:1878 bad_uin:253 has_pv:676 has_face:1660\n"
     ]
    },
    {
     "data": {
      "text/html": [
       "<div>\n",
       "<style>\n",
       "    .dataframe thead tr:only-child th {\n",
       "        text-align: right;\n",
       "    }\n",
       "\n",
       "    .dataframe thead th {\n",
       "        text-align: left;\n",
       "    }\n",
       "\n",
       "    .dataframe tbody tr th {\n",
       "        vertical-align: top;\n",
       "    }\n",
       "</style>\n",
       "<table border=\"1\" class=\"dataframe\">\n",
       "  <thead>\n",
       "    <tr style=\"text-align: right;\">\n",
       "      <th></th>\n",
       "      <th>f_uin</th>\n",
       "      <th>f_create_day</th>\n",
       "      <th>f_admin_qq</th>\n",
       "      <th>f_product</th>\n",
       "      <th>age</th>\n",
       "      <th>edu</th>\n",
       "      <th>income</th>\n",
       "      <th>sex</th>\n",
       "      <th>city</th>\n",
       "      <th>visit_day_num</th>\n",
       "      <th>...</th>\n",
       "      <th>session_num</th>\n",
       "      <th>url_num</th>\n",
       "      <th>viewtime_7</th>\n",
       "      <th>last_visit_day</th>\n",
       "      <th>is_pv_apply</th>\n",
       "      <th>is_pv_apply_sucdess</th>\n",
       "      <th>is_online_buy</th>\n",
       "      <th>is_has_pv</th>\n",
       "      <th>is_has_face</th>\n",
       "      <th>is_qq_dup</th>\n",
       "    </tr>\n",
       "    <tr>\n",
       "      <th>f_bad_uin</th>\n",
       "      <th></th>\n",
       "      <th></th>\n",
       "      <th></th>\n",
       "      <th></th>\n",
       "      <th></th>\n",
       "      <th></th>\n",
       "      <th></th>\n",
       "      <th></th>\n",
       "      <th></th>\n",
       "      <th></th>\n",
       "      <th></th>\n",
       "      <th></th>\n",
       "      <th></th>\n",
       "      <th></th>\n",
       "      <th></th>\n",
       "      <th></th>\n",
       "      <th></th>\n",
       "      <th></th>\n",
       "      <th></th>\n",
       "      <th></th>\n",
       "      <th></th>\n",
       "    </tr>\n",
       "  </thead>\n",
       "  <tbody>\n",
       "    <tr>\n",
       "      <th>0</th>\n",
       "      <td>1625</td>\n",
       "      <td>1625</td>\n",
       "      <td>1625</td>\n",
       "      <td>1625</td>\n",
       "      <td>1625</td>\n",
       "      <td>1625</td>\n",
       "      <td>1625</td>\n",
       "      <td>1625</td>\n",
       "      <td>1625</td>\n",
       "      <td>640</td>\n",
       "      <td>...</td>\n",
       "      <td>640</td>\n",
       "      <td>640</td>\n",
       "      <td>640</td>\n",
       "      <td>640</td>\n",
       "      <td>640</td>\n",
       "      <td>640</td>\n",
       "      <td>640</td>\n",
       "      <td>1625</td>\n",
       "      <td>1625</td>\n",
       "      <td>1625</td>\n",
       "    </tr>\n",
       "    <tr>\n",
       "      <th>1</th>\n",
       "      <td>253</td>\n",
       "      <td>253</td>\n",
       "      <td>253</td>\n",
       "      <td>253</td>\n",
       "      <td>253</td>\n",
       "      <td>253</td>\n",
       "      <td>253</td>\n",
       "      <td>253</td>\n",
       "      <td>253</td>\n",
       "      <td>36</td>\n",
       "      <td>...</td>\n",
       "      <td>36</td>\n",
       "      <td>36</td>\n",
       "      <td>36</td>\n",
       "      <td>36</td>\n",
       "      <td>36</td>\n",
       "      <td>36</td>\n",
       "      <td>36</td>\n",
       "      <td>253</td>\n",
       "      <td>253</td>\n",
       "      <td>253</td>\n",
       "    </tr>\n",
       "  </tbody>\n",
       "</table>\n",
       "<p>2 rows × 21 columns</p>\n",
       "</div>"
      ],
      "text/plain": [
       "<div>\n",
       "<style>\n",
       "    .dataframe thead tr:only-child th {\n",
       "        text-align: right;\n",
       "    }\n",
       "\n",
       "    .dataframe thead th {\n",
       "        text-align: left;\n",
       "    }\n",
       "\n",
       "    .dataframe tbody tr th {\n",
       "        vertical-align: top;\n",
       "    }\n",
       "</style>\n",
       "<table border=\"1\" class=\"dataframe\">\n",
       "  <thead>\n",
       "    <tr style=\"text-align: right;\">\n",
       "      <th></th>\n",
       "      <th>f_uin</th>\n",
       "      <th>f_create_day</th>\n",
       "      <th>f_admin_qq</th>\n",
       "      <th>f_product</th>\n",
       "      <th>age</th>\n",
       "      <th>edu</th>\n",
       "      <th>income</th>\n",
       "      <th>sex</th>\n",
       "      <th>city</th>\n",
       "      <th>visit_day_num</th>\n",
       "      <th>...</th>\n",
       "      <th>session_num</th>\n",
       "      <th>url_num</th>\n",
       "      <th>viewtime_7</th>\n",
       "      <th>last_visit_day</th>\n",
       "      <th>is_pv_apply</th>\n",
       "      <th>is_pv_apply_sucdess</th>\n",
       "      <th>is_online_buy</th>\n",
       "      <th>is_has_pv</th>\n",
       "      <th>is_has_face</th>\n",
       "      <th>is_qq_dup</th>\n",
       "    </tr>\n",
       "    <tr>\n",
       "      <th>f_bad_uin</th>\n",
       "      <th></th>\n",
       "      <th></th>\n",
       "      <th></th>\n",
       "      <th></th>\n",
       "      <th></th>\n",
       "      <th></th>\n",
       "      <th></th>\n",
       "      <th></th>\n",
       "      <th></th>\n",
       "      <th></th>\n",
       "      <th></th>\n",
       "      <th></th>\n",
       "      <th></th>\n",
       "      <th></th>\n",
       "      <th></th>\n",
       "      <th></th>\n",
       "      <th></th>\n",
       "      <th></th>\n",
       "      <th></th>\n",
       "      <th></th>\n",
       "      <th></th>\n",
       "    </tr>\n",
       "  </thead>\n",
       "  <tbody>\n",
       "    <tr>\n",
       "      <th>0</th>\n",
       "      <td>1625</td>\n",
       "      <td>1625</td>\n",
       "      <td>1625</td>\n",
       "      <td>1625</td>\n",
       "      <td>1625</td>\n",
       "      <td>1625</td>\n",
       "      <td>1625</td>\n",
       "      <td>1625</td>\n",
       "      <td>1625</td>\n",
       "      <td>640</td>\n",
       "      <td>...</td>\n",
       "      <td>640</td>\n",
       "      <td>640</td>\n",
       "      <td>640</td>\n",
       "      <td>640</td>\n",
       "      <td>640</td>\n",
       "      <td>640</td>\n",
       "      <td>640</td>\n",
       "      <td>1625</td>\n",
       "      <td>1625</td>\n",
       "      <td>1625</td>\n",
       "    </tr>\n",
       "    <tr>\n",
       "      <th>1</th>\n",
       "      <td>253</td>\n",
       "      <td>253</td>\n",
       "      <td>253</td>\n",
       "      <td>253</td>\n",
       "      <td>253</td>\n",
       "      <td>253</td>\n",
       "      <td>253</td>\n",
       "      <td>253</td>\n",
       "      <td>253</td>\n",
       "      <td>36</td>\n",
       "      <td>...</td>\n",
       "      <td>36</td>\n",
       "      <td>36</td>\n",
       "      <td>36</td>\n",
       "      <td>36</td>\n",
       "      <td>36</td>\n",
       "      <td>36</td>\n",
       "      <td>36</td>\n",
       "      <td>253</td>\n",
       "      <td>253</td>\n",
       "      <td>253</td>\n",
       "    </tr>\n",
       "  </tbody>\n",
       "</table>\n",
       "<p>2 rows × 21 columns</p>\n",
       "</div>"
      ]
     },
     "execution_count": 99,
     "metadata": {},
     "output_type": "execute_result"
    }
   ],
   "source": [
    "total_num = all.shape[0]\n",
    "total_has_pv = sum(all['is_has_pv'])\n",
    "total_has_face = sum(all['is_has_face'])\n",
    "total_bad_uin = sum(all['f_bad_uin'])\n",
    "print('total_num:%d bad_uin:%d has_pv:%d has_face:%d'%(total_num, total_bad_uin, total_has_pv, total_has_face) )\n"
   ]
  },
  {
   "cell_type": "code",
   "execution_count": null,
   "metadata": {},
   "outputs": [],
   "source": [
    ""
   ]
  }
 ],
 "metadata": {
  "kernelspec": {
   "display_name": "Python 2",
   "language": "python",
   "name": "python2"
  },
  "language_info": {
   "codemirror_mode": {
    "name": "ipython",
    "version": 2.0
   },
   "file_extension": ".py",
   "mimetype": "text/x-python",
   "name": "python",
   "nbconvert_exporter": "python",
   "pygments_lexer": "ipython2",
   "version": "2.7.6"
  }
 },
 "nbformat": 4,
 "nbformat_minor": 0
}