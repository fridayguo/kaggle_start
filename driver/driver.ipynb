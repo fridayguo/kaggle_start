{
 "cells": [
  {
   "cell_type": "code",
   "execution_count": 1,
   "metadata": {
    "collapsed": true
   },
   "outputs": [
    {
     "name": "stderr",
     "output_type": "stream",
     "text": [
      "C:\\Anaconda2\\lib\\site-packages\\sklearn\\cross_validation.py:44: DeprecationWarning: This module was deprecated in version 0.18 in favor of the model_selection module into which all the refactored classes and functions are moved. Also note that the interface of the new CV iterators are different from that of this module. This module will be removed in 0.20.\n  \"This module will be removed in 0.20.\", DeprecationWarning)\n"
     ]
    }
   ],
   "source": [
    "import pandas as pd\n",
    "import numpy as np\n",
    "from sklearn.metrics import r2_score,mean_squared_error\n",
    "from sklearn.model_selection  import cross_val_score\n",
    "import sklearn.metrics \n",
    "import xgboost as xgb\n",
    "import matplotlib.pylab as plt"
   ]
  },
  {
   "cell_type": "code",
   "execution_count": 2,
   "metadata": {},
   "outputs": [],
   "source": [
    "class MLPipe:\n",
    "    # type_c_or_r: c  表示分类模型，r 表示回归模型\n",
    "    def __init__(self, train_file, test_file, y_col, id_col, ft_name, type_c_or_r):\n",
    "        self.train_file = train_file\n",
    "        self.test_file = test_file\n",
    "        self.y_col = y_col\n",
    "        self.id_col = id_col\n",
    "        self.type_c_or_r = type_c_or_r\n",
    "        self.col_is_train = 'col_is_train'\n",
    "        self.mod_list = [] \n",
    "        self.rand_state = 43\n",
    "        self.ft_name = ft_name  # 数据集名称 \n",
    "    \n",
    "    # 用来标识数据集的名字，主要用来输出结果文件名\n",
    "    def set_ft_name(self, ft_name):\n",
    "        self.ft_name = ft_name\n",
    "        \n",
    "    # 读取文件，然后合并两个文件\n",
    "    def parse_file(self):\n",
    "        self.src_train_df = pd.read_csv(self.train_file)\n",
    "        self.src_test_df = pd.read_csv(self.test_file)\n",
    "        \n",
    "        self.train_df = self.src_train_df.copy()\n",
    "        self.test_df = self.src_test_df.copy()\n",
    "        \n",
    "        # 设置test数据的y值为0，并且区分\n",
    "        self.test_df[self.y_col] = 0\n",
    "        self.test_df[self.col_is_train] = 0 \n",
    "        self.train_df[self.col_is_train] = 1\n",
    "        # 合并两个数据集，后续所有操作都在all_df中\n",
    "        self.all_df = pd.concat([self.train_df, self.test_df],ignore_index=True)\n",
    "        \n",
    "        self.print_shape()\n",
    "            \n",
    "    def print_shape(self):\n",
    "        print(\"Train Shape: %d:%d\" %(self.train_df.shape))\n",
    "        print(\"Test  Shape: %d:%d\" %(self.test_df.shape))\n",
    "        print(\"All   Shape: %d:%d\" %(self.all_df.shape))\n",
    "        \n",
    "    def split_X_y(self):\n",
    "        self.X_train = self.all_df[self.all_df[self.col_is_train] == 1]\n",
    "        self.y_train = self.X_train[self.y_col]\n",
    "        self.X_train = self.X_train.drop(self.y_col, axis=1)\n",
    "\n",
    "        self.X_test = self.all_df[self.all_df[self.col_is_train] == 0]\n",
    "        self.y_test = self.X_test[self.y_col]\n",
    "        self.X_test = self.X_test.drop(self.y_col, axis=1)\n",
    "        \n",
    "    def out_res_file(self):\n",
    "        y_pred =  self.mod.predict(self.X_test)\n",
    "        output = pd.DataFrame({'id': self.X_test[self.id_col].astype(np.int32), self.y_col: y_pred})\n",
    "        out_file = self.res_file\n",
    "        print('out_res_file to %s' %out_file)\n",
    "        output.to_csv(out_file, index=False)"
   ]
  },
  {
   "cell_type": "code",
   "execution_count": 5,
   "metadata": {},
   "outputs": [],
   "source": [
    "class XGBC_ML(MLPipe):\n",
    "    #print(\"MSE:\",mean_squared_error(y_eval, y_pred))      \n",
    "    def gen_model(self):   \n",
    "        self.model_name = 'XGBC'\n",
    "        self.params={\n",
    "            'n_estimators':10,\n",
    "            'objective': 'binary:logistic', #回归问题 reg:linear 分类问题  binary:logistic  排序 rank:pairwise\n",
    "            'learning_rate': 0.1, # 学习率，默认0.3\n",
    "            'max_depth':6, # 构建树的深度，越大越容易过拟合.默认6 \n",
    "            'subsample':1, # 随机采样训练样本，默认1\n",
    "            'min_child_weight':1, # 这个参数默认是 1，是每个叶子里面 h 的和至少是多少，对正负样本不均衡时的 0-1 分类而言\n",
    "            #，假设 h 在 0.01 附近，min_child_weight 为 1 意味着叶子节点中最少需要包含 100 个样本。\n",
    "            #这个参数非常影响结果，控制叶子节点中二阶导的和的最小值，该参数值越小，越容易 overfitting。 \n",
    "            'seed':819\n",
    "            }\n",
    "            #from sklearn.ensemble import XGBRegressor\n",
    "        self.mod = xgb.XGBClassifier(**self.params)\n",
    "        self.res_file = 'f%s_m%s_n%d_d%s.csv'  %(self.ft_name, self.model_name, \n",
    "                                                 self.mod.n_estimators,\n",
    "                                                 self.mod.max_depth)\n",
    "        self.early_stopping_rounds = 50\n",
    "        print  self.mod \n",
    "    \n",
    "    def choose_best_n_estimators(self):\n",
    "        xgb_param = self.mod.get_xgb_params()\n",
    "        xgtrain = xgb.DMatrix(self.X_train, label=self.y_train)\n",
    "        #max_n_estimators = self.mod.get_params()['n_estimators']\n",
    "        max_n_estimators = 1000\n",
    "        cvresult = xgb.cv(xgb_param, xgtrain, num_boost_round=max_n_estimators,\n",
    "                    nfold=5,metrics='auc', early_stopping_rounds=50, verbose_eval=1,\n",
    "                    seed =819)\n",
    "        self.mod.set_params(n_estimators=cvresult.shape[0])\n",
    "        print 'Set best_n_estimators:%d'%(cvresult.shape[0])\n",
    "        \n",
    "        # plot \n",
    "        cv_mean = cvresult.iloc[:,[0,2]]\n",
    "        cv_mean.plot()\n",
    "        plt.show()\n",
    "        \n",
    "    def mod_fit(self, mod, plot_imp=True):\n",
    "        eval_set=[(self.X_train, self.y_train)]\n",
    "        # 'eval_metric': 'auc', # rmse mae logloss error auc \n",
    "        mod.fit(self.X_train, self.y_train, eval_metric='auc', eval_set=eval_set)\n",
    "        \n",
    "        #Predict training set:\n",
    "        dtrain_predictions = mod.predict(self.X_train)\n",
    "        dtrain_predprob = mod.predict_proba(self.X_train)[:,1]\n",
    "            \n",
    "        #Print model report:\n",
    "        print \"\\nModel Report\"\n",
    "        print \"Accuracy : %.4g\" % metrics.accuracy_score(self.y_train, dtrain_predictions)\n",
    "        print \"AUC Score (Train): %f\" % metrics.roc_auc_score(self.y_train, dtrain_predprob)\n",
    "                        \n",
    "        feat_imp = pd.Series(mod.booster().get_fscore()).sort_values(ascending=False)\n",
    "        feat_imp.plot(kind='bar', title='Feature Importances')\n",
    "        plt.ylabel('Feature Importance Score')\n",
    "        plt.show()\n",
    "        \n",
    "    def mod_cv(self, cv=5):\n",
    "        scores = cross_val_score(self.mod, self.X_train, self.y_train, cv=cv, scoring='r2')\n",
    "        print(\"Mod[%s]  R2: %0.6f (+/- %0.6f)\") %(self.model_name, scores.mean(), scores.std())"
   ]
  },
  {
   "cell_type": "code",
   "execution_count": 4,
   "metadata": {},
   "outputs": [],
   "source": [
    ""
   ]
  },
  {
   "cell_type": "code",
   "execution_count": 8,
   "metadata": {},
   "outputs": [
    {
     "name": "stdout",
     "output_type": "stream",
     "text": [
      "Train Shape: 595212:60\nTest  Shape: 892816:60\nAll   Shape: 1488028:60\n"
     ]
    },
    {
     "name": "stdout",
     "output_type": "stream",
     "text": [
      "XGBClassifier(base_score=0.5, colsample_bylevel=1, colsample_bytree=1,\n       gamma=0, learning_rate=0.1, max_delta_step=0, max_depth=6,\n       min_child_weight=1, missing=None, n_estimators=10, nthread=-1,\n       objective='binary:logistic', reg_alpha=0, reg_lambda=1,\n       scale_pos_weight=1, seed=819, silent=True, subsample=1)\n"
     ]
    }
   ],
   "source": [
    "ml = XGBC_ML(train_file='./driver/train.csv', test_file='./driver/test.csv', \n",
    "            y_col='target', id_col='id', ft_name='driver', type_c_or_r='c')\n",
    "ml.parse_file()\n",
    "ml.split_X_y()\n",
    "ml.gen_model()"
   ]
  },
  {
   "cell_type": "code",
   "execution_count": 9,
   "metadata": {
    "collapsed": true
   },
   "outputs": [
    {
     "name": "stdout",
     "output_type": "stream",
     "text": [
      "[0]\ttrain-auc:0.611902+0.0020883\ttest-auc:0.605972+0.00436142\n"
     ]
    },
    {
     "name": "stdout",
     "output_type": "stream",
     "text": [
      "[1]\ttrain-auc:0.620179+0.00267789\ttest-auc:0.61324+0.00458358\n"
     ]
    },
    {
     "name": "stdout",
     "output_type": "stream",
     "text": [
      "[2]\ttrain-auc:0.623611+0.00168102\ttest-auc:0.616481+0.00461887\n"
     ]
    },
    {
     "name": "stdout",
     "output_type": "stream",
     "text": [
      "[3]\ttrain-auc:0.625779+0.00147503\ttest-auc:0.618016+0.00475587\n"
     ]
    },
    {
     "name": "stdout",
     "output_type": "stream",
     "text": [
      "[4]\ttrain-auc:0.627444+0.00113505\ttest-auc:0.619299+0.00442899\n"
     ]
    },
    {
     "name": "stdout",
     "output_type": "stream",
     "text": [
      "[5]\ttrain-auc:0.628325+0.000985317\ttest-auc:0.619798+0.0043577\n"
     ]
    },
    {
     "name": "stdout",
     "output_type": "stream",
     "text": [
      "[6]\ttrain-auc:0.628733+0.00080601\ttest-auc:0.61969+0.0045295\n"
     ]
    },
    {
     "name": "stdout",
     "output_type": "stream",
     "text": [
      "[7]\ttrain-auc:0.629986+0.00116921\ttest-auc:0.620301+0.00405465\n"
     ]
    },
    {
     "name": "stdout",
     "output_type": "stream",
     "text": [
      "[8]\ttrain-auc:0.630492+0.000981949\ttest-auc:0.620559+0.0043021\n"
     ]
    },
    {
     "name": "stdout",
     "output_type": "stream",
     "text": [
      "[9]\ttrain-auc:0.631206+0.00108559\ttest-auc:0.620914+0.00414209\n"
     ]
    },
    {
     "name": "stdout",
     "output_type": "stream",
     "text": [
      "[10]\ttrain-auc:0.631909+0.00109714\ttest-auc:0.621113+0.00417295\n"
     ]
    },
    {
     "name": "stdout",
     "output_type": "stream",
     "text": [
      "[11]\ttrain-auc:0.632221+0.00119939\ttest-auc:0.62129+0.00415328\n"
     ]
    },
    {
     "name": "stdout",
     "output_type": "stream",
     "text": [
      "[12]\ttrain-auc:0.632672+0.00118494\ttest-auc:0.621366+0.00403301\n"
     ]
    },
    {
     "name": "stdout",
     "output_type": "stream",
     "text": [
      "[13]\ttrain-auc:0.633269+0.00140677\ttest-auc:0.621455+0.00408255\n"
     ]
    },
    {
     "name": "stdout",
     "output_type": "stream",
     "text": [
      "[14]\ttrain-auc:0.634202+0.00147655\ttest-auc:0.62176+0.00425467\n"
     ]
    },
    {
     "name": "stdout",
     "output_type": "stream",
     "text": [
      "[15]\ttrain-auc:0.634988+0.00139303\ttest-auc:0.62224+0.00403956\n"
     ]
    },
    {
     "name": "stdout",
     "output_type": "stream",
     "text": [
      "[16]\ttrain-auc:0.635542+0.00150925\ttest-auc:0.622336+0.0039045\n"
     ]
    },
    {
     "name": "stdout",
     "output_type": "stream",
     "text": [
      "[17]\ttrain-auc:0.636324+0.00164499\ttest-auc:0.622825+0.00383219\n"
     ]
    },
    {
     "name": "stdout",
     "output_type": "stream",
     "text": [
      "[18]\ttrain-auc:0.637202+0.00184819\ttest-auc:0.623099+0.00396891\n"
     ]
    },
    {
     "name": "stdout",
     "output_type": "stream",
     "text": [
      "[19]\ttrain-auc:0.638132+0.00191792\ttest-auc:0.623415+0.00409042\n"
     ]
    },
    {
     "name": "stdout",
     "output_type": "stream",
     "text": [
      "[20]\ttrain-auc:0.639085+0.00176418\ttest-auc:0.623959+0.0039445\n"
     ]
    },
    {
     "name": "stdout",
     "output_type": "stream",
     "text": [
      "[21]\ttrain-auc:0.64035+0.00147391\ttest-auc:0.624683+0.0040845\n"
     ]
    },
    {
     "name": "stdout",
     "output_type": "stream",
     "text": [
      "[22]\ttrain-auc:0.641279+0.00150094\ttest-auc:0.625006+0.00400845\n"
     ]
    },
    {
     "name": "stdout",
     "output_type": "stream",
     "text": [
      "[23]\ttrain-auc:0.642387+0.00180306\ttest-auc:0.625679+0.00392652\n"
     ]
    },
    {
     "name": "stdout",
     "output_type": "stream",
     "text": [
      "[24]\ttrain-auc:0.643318+0.00179005\ttest-auc:0.626076+0.00381356\n"
     ]
    },
    {
     "name": "stdout",
     "output_type": "stream",
     "text": [
      "[25]\ttrain-auc:0.644474+0.00174053\ttest-auc:0.626351+0.00370457\n"
     ]
    },
    {
     "name": "stdout",
     "output_type": "stream",
     "text": [
      "[26]\ttrain-auc:0.645888+0.00132666\ttest-auc:0.627019+0.00380404\n"
     ]
    },
    {
     "name": "stdout",
     "output_type": "stream",
     "text": [
      "[27]\ttrain-auc:0.647221+0.000832646\ttest-auc:0.627399+0.00380034\n"
     ]
    },
    {
     "name": "stdout",
     "output_type": "stream",
     "text": [
      "[28]\ttrain-auc:0.648699+0.000984531\ttest-auc:0.627941+0.00375607\n"
     ]
    },
    {
     "name": "stdout",
     "output_type": "stream",
     "text": [
      "[29]\ttrain-auc:0.649916+0.000541306\ttest-auc:0.628295+0.00370357\n"
     ]
    },
    {
     "name": "stdout",
     "output_type": "stream",
     "text": [
      "[30]\ttrain-auc:0.651199+0.000728525\ttest-auc:0.628971+0.00369843\n"
     ]
    },
    {
     "name": "stdout",
     "output_type": "stream",
     "text": [
      "[31]\ttrain-auc:0.652505+0.000609784\ttest-auc:0.629296+0.00363084\n"
     ]
    },
    {
     "name": "stdout",
     "output_type": "stream",
     "text": [
      "[32]\ttrain-auc:0.653861+0.00046465\ttest-auc:0.629588+0.00366501\n"
     ]
    },
    {
     "name": "stdout",
     "output_type": "stream",
     "text": [
      "[33]\ttrain-auc:0.655428+0.000553997\ttest-auc:0.630216+0.0032728\n"
     ]
    },
    {
     "name": "stdout",
     "output_type": "stream",
     "text": [
      "[34]\ttrain-auc:0.656416+0.000408247\ttest-auc:0.630396+0.00331413\n"
     ]
    },
    {
     "name": "stdout",
     "output_type": "stream",
     "text": [
      "[35]\ttrain-auc:0.657593+0.000472591\ttest-auc:0.630743+0.00328428\n"
     ]
    },
    {
     "name": "stdout",
     "output_type": "stream",
     "text": [
      "[36]\ttrain-auc:0.658839+0.000533996\ttest-auc:0.631213+0.00305463\n"
     ]
    },
    {
     "name": "stdout",
     "output_type": "stream",
     "text": [
      "[37]\ttrain-auc:0.659982+0.000460551\ttest-auc:0.631538+0.00314214\n"
     ]
    },
    {
     "name": "stdout",
     "output_type": "stream",
     "text": [
      "[38]\ttrain-auc:0.661171+0.000611941\ttest-auc:0.631853+0.00282066\n"
     ]
    },
    {
     "name": "stdout",
     "output_type": "stream",
     "text": [
      "[39]\ttrain-auc:0.662293+0.000572507\ttest-auc:0.632071+0.00284949\n"
     ]
    },
    {
     "name": "stdout",
     "output_type": "stream",
     "text": [
      "[40]\ttrain-auc:0.663282+0.00066243\ttest-auc:0.63238+0.00258637\n"
     ]
    },
    {
     "name": "stdout",
     "output_type": "stream",
     "text": [
      "[41]\ttrain-auc:0.664515+0.000592965\ttest-auc:0.632833+0.00272193\n"
     ]
    },
    {
     "name": "stdout",
     "output_type": "stream",
     "text": [
      "[42]\ttrain-auc:0.665564+0.000830236\ttest-auc:0.633119+0.00267513\n"
     ]
    },
    {
     "name": "stdout",
     "output_type": "stream",
     "text": [
      "[43]\ttrain-auc:0.666606+0.000661576\ttest-auc:0.633492+0.00282827\n"
     ]
    },
    {
     "name": "stdout",
     "output_type": "stream",
     "text": [
      "[44]\ttrain-auc:0.667731+0.000799288\ttest-auc:0.633729+0.00278563\n"
     ]
    },
    {
     "name": "stdout",
     "output_type": "stream",
     "text": [
      "[45]\ttrain-auc:0.668674+0.00101663\ttest-auc:0.634023+0.00249854\n"
     ]
    },
    {
     "name": "stdout",
     "output_type": "stream",
     "text": [
      "[46]\ttrain-auc:0.669687+0.00096823\ttest-auc:0.63431+0.00252701\n"
     ]
    },
    {
     "name": "stdout",
     "output_type": "stream",
     "text": [
      "[47]\ttrain-auc:0.670796+0.000838702\ttest-auc:0.634552+0.00262513\n"
     ]
    },
    {
     "name": "stdout",
     "output_type": "stream",
     "text": [
      "[48]\ttrain-auc:0.67173+0.000840978\ttest-auc:0.634972+0.00266819\n"
     ]
    },
    {
     "name": "stdout",
     "output_type": "stream",
     "text": [
      "[49]\ttrain-auc:0.672635+0.000746009\ttest-auc:0.635119+0.00253653\n"
     ]
    },
    {
     "name": "stdout",
     "output_type": "stream",
     "text": [
      "[50]\ttrain-auc:0.673472+0.000751651\ttest-auc:0.635318+0.00269577\n"
     ]
    },
    {
     "name": "stdout",
     "output_type": "stream",
     "text": [
      "[51]\ttrain-auc:0.674595+0.000766505\ttest-auc:0.635547+0.00282276\n"
     ]
    },
    {
     "name": "stdout",
     "output_type": "stream",
     "text": [
      "[52]\ttrain-auc:0.675587+0.000838613\ttest-auc:0.635811+0.00271212\n"
     ]
    },
    {
     "name": "stdout",
     "output_type": "stream",
     "text": [
      "[53]\ttrain-auc:0.676597+0.000887178\ttest-auc:0.63589+0.00265166\n"
     ]
    },
    {
     "name": "stdout",
     "output_type": "stream",
     "text": [
      "[54]\ttrain-auc:0.677501+0.00080718\ttest-auc:0.636+0.00253083\n"
     ]
    },
    {
     "name": "stdout",
     "output_type": "stream",
     "text": [
      "[55]\ttrain-auc:0.67842+0.000748473\ttest-auc:0.636317+0.00252906\n"
     ]
    },
    {
     "name": "stdout",
     "output_type": "stream",
     "text": [
      "[56]\ttrain-auc:0.679366+0.000829976\ttest-auc:0.636382+0.00253121\n"
     ]
    },
    {
     "name": "stdout",
     "output_type": "stream",
     "text": [
      "[57]\ttrain-auc:0.680221+0.000897158\ttest-auc:0.636441+0.00250816\n"
     ]
    },
    {
     "name": "stdout",
     "output_type": "stream",
     "text": [
      "[58]\ttrain-auc:0.681084+0.00101657\ttest-auc:0.63665+0.00245576\n"
     ]
    },
    {
     "name": "stdout",
     "output_type": "stream",
     "text": [
      "[59]\ttrain-auc:0.681878+0.00080687\ttest-auc:0.63672+0.00229495\n"
     ]
    },
    {
     "name": "stdout",
     "output_type": "stream",
     "text": [
      "[60]\ttrain-auc:0.682724+0.000775783\ttest-auc:0.636691+0.00237068\n"
     ]
    },
    {
     "name": "stdout",
     "output_type": "stream",
     "text": [
      "[61]\ttrain-auc:0.683555+0.000695861\ttest-auc:0.636776+0.0024262\n"
     ]
    },
    {
     "name": "stdout",
     "output_type": "stream",
     "text": [
      "[62]\ttrain-auc:0.68469+0.000783136\ttest-auc:0.636925+0.00238336\n"
     ]
    },
    {
     "name": "stdout",
     "output_type": "stream",
     "text": [
      "[63]\ttrain-auc:0.68576+0.000577651\ttest-auc:0.637007+0.00240451\n"
     ]
    },
    {
     "name": "stdout",
     "output_type": "stream",
     "text": [
      "[64]\ttrain-auc:0.68656+0.00067289\ttest-auc:0.63711+0.00252116\n"
     ]
    },
    {
     "name": "stdout",
     "output_type": "stream",
     "text": [
      "[65]\ttrain-auc:0.687432+0.000672275\ttest-auc:0.637208+0.00248525\n"
     ]
    },
    {
     "name": "stdout",
     "output_type": "stream",
     "text": [
      "[66]\ttrain-auc:0.688313+0.000756131\ttest-auc:0.637254+0.00250194\n"
     ]
    },
    {
     "name": "stdout",
     "output_type": "stream",
     "text": [
      "[67]\ttrain-auc:0.689215+0.000797278\ttest-auc:0.637479+0.00237134\n"
     ]
    },
    {
     "name": "stdout",
     "output_type": "stream",
     "text": [
      "[68]\ttrain-auc:0.690151+0.000779544\ttest-auc:0.637597+0.0023305\n"
     ]
    },
    {
     "name": "stdout",
     "output_type": "stream",
     "text": [
      "[69]\ttrain-auc:0.691017+0.000778914\ttest-auc:0.63758+0.00238369\n"
     ]
    },
    {
     "name": "stdout",
     "output_type": "stream",
     "text": [
      "[70]\ttrain-auc:0.69189+0.000648182\ttest-auc:0.637601+0.00236916\n"
     ]
    },
    {
     "name": "stdout",
     "output_type": "stream",
     "text": [
      "[71]\ttrain-auc:0.692783+0.000558158\ttest-auc:0.637706+0.00231111\n"
     ]
    },
    {
     "name": "stdout",
     "output_type": "stream",
     "text": [
      "[72]\ttrain-auc:0.693602+0.000581147\ttest-auc:0.637622+0.00214728\n"
     ]
    },
    {
     "name": "stdout",
     "output_type": "stream",
     "text": [
      "[73]\ttrain-auc:0.694383+0.000579133\ttest-auc:0.637675+0.00210033\n"
     ]
    },
    {
     "name": "stdout",
     "output_type": "stream",
     "text": [
      "[74]\ttrain-auc:0.695316+0.000510685\ttest-auc:0.637775+0.00200608\n"
     ]
    },
    {
     "name": "stdout",
     "output_type": "stream",
     "text": [
      "[75]\ttrain-auc:0.696139+0.000385916\ttest-auc:0.637809+0.00194947\n"
     ]
    },
    {
     "name": "stdout",
     "output_type": "stream",
     "text": [
      "[76]\ttrain-auc:0.696756+0.000348383\ttest-auc:0.6378+0.00188769\n"
     ]
    },
    {
     "name": "stdout",
     "output_type": "stream",
     "text": [
      "[77]\ttrain-auc:0.697572+0.000450555\ttest-auc:0.63771+0.00186269\n"
     ]
    },
    {
     "name": "stdout",
     "output_type": "stream",
     "text": [
      "[78]\ttrain-auc:0.698296+0.000543249\ttest-auc:0.637655+0.00182555\n"
     ]
    },
    {
     "name": "stdout",
     "output_type": "stream",
     "text": [
      "[79]\ttrain-auc:0.699004+0.000638873\ttest-auc:0.637593+0.00177473\n"
     ]
    },
    {
     "name": "stdout",
     "output_type": "stream",
     "text": [
      "[80]\ttrain-auc:0.699776+0.000537084\ttest-auc:0.637516+0.00164134\n"
     ]
    },
    {
     "name": "stdout",
     "output_type": "stream",
     "text": [
      "[81]\ttrain-auc:0.700397+0.000730005\ttest-auc:0.637595+0.00163266\n"
     ]
    },
    {
     "name": "stdout",
     "output_type": "stream",
     "text": [
      "[82]\ttrain-auc:0.701007+0.000725279\ttest-auc:0.637713+0.00161686\n"
     ]
    },
    {
     "name": "stdout",
     "output_type": "stream",
     "text": [
      "[83]\ttrain-auc:0.701644+0.000635058\ttest-auc:0.637629+0.00158102\n"
     ]
    },
    {
     "name": "stdout",
     "output_type": "stream",
     "text": [
      "[84]\ttrain-auc:0.702172+0.000749788\ttest-auc:0.637624+0.00159234\n"
     ]
    },
    {
     "name": "stdout",
     "output_type": "stream",
     "text": [
      "[85]\ttrain-auc:0.7028+0.000871358\ttest-auc:0.637617+0.00154649\n"
     ]
    },
    {
     "name": "stdout",
     "output_type": "stream",
     "text": [
      "[86]\ttrain-auc:0.703443+0.00110935\ttest-auc:0.637536+0.00151958\n"
     ]
    },
    {
     "name": "stdout",
     "output_type": "stream",
     "text": [
      "[87]\ttrain-auc:0.704094+0.000958946\ttest-auc:0.637554+0.00144667\n"
     ]
    },
    {
     "name": "stdout",
     "output_type": "stream",
     "text": [
      "[88]\ttrain-auc:0.704952+0.00104782\ttest-auc:0.637554+0.00145103\n"
     ]
    },
    {
     "name": "stdout",
     "output_type": "stream",
     "text": [
      "[89]\ttrain-auc:0.705562+0.00101849\ttest-auc:0.637418+0.00146953\n"
     ]
    },
    {
     "name": "stdout",
     "output_type": "stream",
     "text": [
      "[90]\ttrain-auc:0.706301+0.00108096\ttest-auc:0.637363+0.00150822\n"
     ]
    },
    {
     "name": "stdout",
     "output_type": "stream",
     "text": [
      "[91]\ttrain-auc:0.706661+0.000996963\ttest-auc:0.637266+0.00150408\n"
     ]
    },
    {
     "name": "stdout",
     "output_type": "stream",
     "text": [
      "[92]\ttrain-auc:0.707314+0.00100149\ttest-auc:0.637179+0.00158684\n"
     ]
    },
    {
     "name": "stdout",
     "output_type": "stream",
     "text": [
      "[93]\ttrain-auc:0.707818+0.00103832\ttest-auc:0.637214+0.0016356\n"
     ]
    },
    {
     "name": "stdout",
     "output_type": "stream",
     "text": [
      "[94]\ttrain-auc:0.70835+0.00106881\ttest-auc:0.637184+0.00158333\n"
     ]
    },
    {
     "name": "stdout",
     "output_type": "stream",
     "text": [
      "[95]\ttrain-auc:0.708837+0.000900891\ttest-auc:0.637175+0.00159668\n"
     ]
    },
    {
     "name": "stdout",
     "output_type": "stream",
     "text": [
      "[96]\ttrain-auc:0.709319+0.00112246\ttest-auc:0.637198+0.00160081\n"
     ]
    },
    {
     "name": "stdout",
     "output_type": "stream",
     "text": [
      "[97]\ttrain-auc:0.709838+0.000953557\ttest-auc:0.637185+0.00154766\n"
     ]
    },
    {
     "name": "stdout",
     "output_type": "stream",
     "text": [
      "[98]\ttrain-auc:0.710576+0.00118833\ttest-auc:0.637113+0.00152231\n"
     ]
    },
    {
     "name": "stdout",
     "output_type": "stream",
     "text": [
      "[99]\ttrain-auc:0.71108+0.00109232\ttest-auc:0.637131+0.00149401\n"
     ]
    },
    {
     "name": "stdout",
     "output_type": "stream",
     "text": [
      "[100]\ttrain-auc:0.711732+0.00120778\ttest-auc:0.637217+0.00150599\n"
     ]
    },
    {
     "name": "stdout",
     "output_type": "stream",
     "text": [
      "[101]\ttrain-auc:0.712297+0.00128295\ttest-auc:0.637206+0.00155286\n"
     ]
    },
    {
     "name": "stdout",
     "output_type": "stream",
     "text": [
      "[102]\ttrain-auc:0.712956+0.00122309\ttest-auc:0.637163+0.00149453\n"
     ]
    },
    {
     "name": "stdout",
     "output_type": "stream",
     "text": [
      "[103]\ttrain-auc:0.713486+0.00117641\ttest-auc:0.637208+0.00146354\n"
     ]
    },
    {
     "name": "stdout",
     "output_type": "stream",
     "text": [
      "[104]\ttrain-auc:0.713946+0.00114952\ttest-auc:0.637109+0.00144336\n"
     ]
    },
    {
     "name": "stdout",
     "output_type": "stream",
     "text": [
      "[105]\ttrain-auc:0.714491+0.00129725\ttest-auc:0.637109+0.00152028\n"
     ]
    },
    {
     "name": "stdout",
     "output_type": "stream",
     "text": [
      "[106]\ttrain-auc:0.715019+0.00151037\ttest-auc:0.637095+0.0014729\n"
     ]
    },
    {
     "name": "stdout",
     "output_type": "stream",
     "text": [
      "[107]\ttrain-auc:0.715651+0.00168073\ttest-auc:0.637015+0.0014128\n"
     ]
    },
    {
     "name": "stdout",
     "output_type": "stream",
     "text": [
      "[108]\ttrain-auc:0.716065+0.00177474\ttest-auc:0.637041+0.00137078\n"
     ]
    },
    {
     "name": "stdout",
     "output_type": "stream",
     "text": [
      "[109]\ttrain-auc:0.716823+0.00203811\ttest-auc:0.637119+0.00140764\n"
     ]
    },
    {
     "name": "stdout",
     "output_type": "stream",
     "text": [
      "[110]\ttrain-auc:0.717388+0.00202212\ttest-auc:0.637115+0.00146381\n"
     ]
    },
    {
     "name": "stdout",
     "output_type": "stream",
     "text": [
      "[111]\ttrain-auc:0.717752+0.00201902\ttest-auc:0.637106+0.00146281\n"
     ]
    },
    {
     "name": "stdout",
     "output_type": "stream",
     "text": [
      "[112]\ttrain-auc:0.718131+0.00197696\ttest-auc:0.637059+0.00148405\n"
     ]
    },
    {
     "name": "stdout",
     "output_type": "stream",
     "text": [
      "[113]\ttrain-auc:0.718731+0.00194837\ttest-auc:0.637056+0.00149739\n"
     ]
    },
    {
     "name": "stdout",
     "output_type": "stream",
     "text": [
      "[114]\ttrain-auc:0.719183+0.00204403\ttest-auc:0.637081+0.00148573\n"
     ]
    },
    {
     "name": "stdout",
     "output_type": "stream",
     "text": [
      "[115]\ttrain-auc:0.719632+0.00216217\ttest-auc:0.637018+0.00139909\n"
     ]
    },
    {
     "name": "stdout",
     "output_type": "stream",
     "text": [
      "[116]\ttrain-auc:0.720238+0.00211458\ttest-auc:0.636993+0.00141401\n"
     ]
    },
    {
     "name": "stdout",
     "output_type": "stream",
     "text": [
      "[117]\ttrain-auc:0.720662+0.00199492\ttest-auc:0.63694+0.00141229\n"
     ]
    },
    {
     "name": "stdout",
     "output_type": "stream",
     "text": [
      "[118]\ttrain-auc:0.721191+0.00196916\ttest-auc:0.636915+0.00144491\n"
     ]
    },
    {
     "name": "stdout",
     "output_type": "stream",
     "text": [
      "[119]\ttrain-auc:0.721717+0.00210309\ttest-auc:0.636937+0.00144431\n"
     ]
    },
    {
     "name": "stdout",
     "output_type": "stream",
     "text": [
      "[120]\ttrain-auc:0.722195+0.00232764\ttest-auc:0.636905+0.00144176\n"
     ]
    },
    {
     "name": "stdout",
     "output_type": "stream",
     "text": [
      "[121]\ttrain-auc:0.72263+0.00241778\ttest-auc:0.636846+0.00136527\n"
     ]
    },
    {
     "name": "stdout",
     "output_type": "stream",
     "text": [
      "[122]\ttrain-auc:0.723017+0.00255048\ttest-auc:0.6368+0.00137293\n"
     ]
    },
    {
     "name": "stdout",
     "output_type": "stream",
     "text": [
      "[123]\ttrain-auc:0.723248+0.00256214\ttest-auc:0.636799+0.00139153\n"
     ]
    },
    {
     "name": "stdout",
     "output_type": "stream",
     "text": [
      "[124]\ttrain-auc:0.723804+0.00234427\ttest-auc:0.636776+0.00143254\n"
     ]
    },
    {
     "name": "stdout",
     "output_type": "stream",
     "text": [
      "Set best_n_estimators:76\n"
     ]
    },
    {
     "data": {
      "image/png": "[encoded data removed]",
      "text/plain": [
       "<matplotlib.figure.Figure at 0x16988518>"
      ]
     },
     "metadata": {},
     "output_type": "display_data"
    }
   ],
   "source": [
    "ml.choose_best_n_estimators()"
   ]
  },
  {
   "cell_type": "code",
   "execution_count": 12,
   "metadata": {},
   "outputs": [
    {
     "data": {
      "text/plain": [
       "XGBClassifier(base_score=0.5, colsample_bylevel=1, colsample_bytree=1,\n       gamma=0, learning_rate=0.1, max_delta_step=0, max_depth=6,\n       min_child_weight=1, missing=None, n_estimators=76, nthread=-1,\n       objective='binary:logistic', reg_alpha=0, reg_lambda=1,\n       scale_pos_weight=1, seed=819, silent=True, subsample=1)"
      ]
     },
     "execution_count": 12,
     "metadata": {},
     "output_type": "execute_result"
    }
   ],
   "source": [
    "ml.mod"
   ]
  },
  {
   "cell_type": "code",
   "execution_count": 14,
   "metadata": {},
   "outputs": [
    {
     "name": "stdout",
     "output_type": "stream",
     "text": [
      "[0]\tvalidation_0-auc:0.613507\n"
     ]
    },
    {
     "name": "stdout",
     "output_type": "stream",
     "text": [
      "[1]\tvalidation_0-auc:0.619251\n"
     ]
    },
    {
     "name": "stdout",
     "output_type": "stream",
     "text": [
      "[2]\tvalidation_0-auc:0.621447\n"
     ]
    },
    {
     "name": "stdout",
     "output_type": "stream",
     "text": [
      "[3]\tvalidation_0-auc:0.624257\n"
     ]
    },
    {
     "name": "stdout",
     "output_type": "stream",
     "text": [
      "[4]\tvalidation_0-auc:0.625745\n"
     ]
    },
    {
     "name": "stdout",
     "output_type": "stream",
     "text": [
      "[5]\tvalidation_0-auc:0.62697\n"
     ]
    },
    {
     "name": "stdout",
     "output_type": "stream",
     "text": [
      "[6]\tvalidation_0-auc:0.626999\n"
     ]
    },
    {
     "name": "stdout",
     "output_type": "stream",
     "text": [
      "[7]\tvalidation_0-auc:0.627388\n"
     ]
    },
    {
     "name": "stdout",
     "output_type": "stream",
     "text": [
      "[8]\tvalidation_0-auc:0.628082\n"
     ]
    },
    {
     "name": "stdout",
     "output_type": "stream",
     "text": [
      "[9]\tvalidation_0-auc:0.628621\n"
     ]
    },
    {
     "name": "stdout",
     "output_type": "stream",
     "text": [
      "[10]\tvalidation_0-auc:0.629355\n"
     ]
    },
    {
     "name": "stdout",
     "output_type": "stream",
     "text": [
      "[11]\tvalidation_0-auc:0.629493\n"
     ]
    },
    {
     "name": "stdout",
     "output_type": "stream",
     "text": [
      "[12]\tvalidation_0-auc:0.630766\n"
     ]
    },
    {
     "name": "stdout",
     "output_type": "stream",
     "text": [
      "[13]\tvalidation_0-auc:0.630761\n"
     ]
    },
    {
     "name": "stdout",
     "output_type": "stream",
     "text": [
      "[14]\tvalidation_0-auc:0.631598\n"
     ]
    },
    {
     "name": "stdout",
     "output_type": "stream",
     "text": [
      "[15]\tvalidation_0-auc:0.632543\n"
     ]
    },
    {
     "name": "stdout",
     "output_type": "stream",
     "text": [
      "[16]\tvalidation_0-auc:0.633711\n"
     ]
    },
    {
     "name": "stdout",
     "output_type": "stream",
     "text": [
      "[17]\tvalidation_0-auc:0.634403\n"
     ]
    },
    {
     "name": "stdout",
     "output_type": "stream",
     "text": [
      "[18]\tvalidation_0-auc:0.63572\n"
     ]
    },
    {
     "name": "stdout",
     "output_type": "stream",
     "text": [
      "[19]\tvalidation_0-auc:0.636289\n"
     ]
    },
    {
     "name": "stdout",
     "output_type": "stream",
     "text": [
      "[20]\tvalidation_0-auc:0.636887\n"
     ]
    },
    {
     "name": "stdout",
     "output_type": "stream",
     "text": [
      "[21]\tvalidation_0-auc:0.637672\n"
     ]
    },
    {
     "name": "stdout",
     "output_type": "stream",
     "text": [
      "[22]\tvalidation_0-auc:0.638308\n"
     ]
    },
    {
     "name": "stdout",
     "output_type": "stream",
     "text": [
      "[23]\tvalidation_0-auc:0.638901\n"
     ]
    },
    {
     "name": "stdout",
     "output_type": "stream",
     "text": [
      "[24]\tvalidation_0-auc:0.639813\n"
     ]
    },
    {
     "name": "stdout",
     "output_type": "stream",
     "text": [
      "[25]\tvalidation_0-auc:0.641382\n"
     ]
    },
    {
     "name": "stdout",
     "output_type": "stream",
     "text": [
      "[26]\tvalidation_0-auc:0.642143\n"
     ]
    },
    {
     "name": "stdout",
     "output_type": "stream",
     "text": [
      "[27]\tvalidation_0-auc:0.643197\n"
     ]
    },
    {
     "name": "stdout",
     "output_type": "stream",
     "text": [
      "[28]\tvalidation_0-auc:0.645224\n"
     ]
    },
    {
     "name": "stdout",
     "output_type": "stream",
     "text": [
      "[29]\tvalidation_0-auc:0.646282\n"
     ]
    },
    {
     "name": "stdout",
     "output_type": "stream",
     "text": [
      "[30]\tvalidation_0-auc:0.64779\n"
     ]
    },
    {
     "name": "stdout",
     "output_type": "stream",
     "text": [
      "[31]\tvalidation_0-auc:0.648595\n"
     ]
    },
    {
     "name": "stdout",
     "output_type": "stream",
     "text": [
      "[32]\tvalidation_0-auc:0.649612\n"
     ]
    },
    {
     "name": "stdout",
     "output_type": "stream",
     "text": [
      "[33]\tvalidation_0-auc:0.650877\n"
     ]
    },
    {
     "name": "stdout",
     "output_type": "stream",
     "text": [
      "[34]\tvalidation_0-auc:0.652214\n"
     ]
    },
    {
     "name": "stdout",
     "output_type": "stream",
     "text": [
      "[35]\tvalidation_0-auc:0.653279\n"
     ]
    },
    {
     "name": "stdout",
     "output_type": "stream",
     "text": [
      "[36]\tvalidation_0-auc:0.654382\n"
     ]
    },
    {
     "name": "stdout",
     "output_type": "stream",
     "text": [
      "[37]\tvalidation_0-auc:0.655199\n"
     ]
    },
    {
     "name": "stdout",
     "output_type": "stream",
     "text": [
      "[38]\tvalidation_0-auc:0.65593\n"
     ]
    },
    {
     "name": "stdout",
     "output_type": "stream",
     "text": [
      "[39]\tvalidation_0-auc:0.656979\n"
     ]
    },
    {
     "name": "stdout",
     "output_type": "stream",
     "text": [
      "[40]\tvalidation_0-auc:0.65738\n"
     ]
    },
    {
     "name": "stdout",
     "output_type": "stream",
     "text": [
      "[41]\tvalidation_0-auc:0.658813\n"
     ]
    },
    {
     "name": "stdout",
     "output_type": "stream",
     "text": [
      "[42]\tvalidation_0-auc:0.659599\n"
     ]
    },
    {
     "name": "stdout",
     "output_type": "stream",
     "text": [
      "[43]\tvalidation_0-auc:0.660373\n"
     ]
    },
    {
     "name": "stdout",
     "output_type": "stream",
     "text": [
      "[44]\tvalidation_0-auc:0.661388\n"
     ]
    },
    {
     "name": "stdout",
     "output_type": "stream",
     "text": [
      "[45]\tvalidation_0-auc:0.662741\n"
     ]
    },
    {
     "name": "stdout",
     "output_type": "stream",
     "text": [
      "[46]\tvalidation_0-auc:0.663594\n"
     ]
    },
    {
     "name": "stdout",
     "output_type": "stream",
     "text": [
      "[47]\tvalidation_0-auc:0.664412\n"
     ]
    },
    {
     "name": "stdout",
     "output_type": "stream",
     "text": [
      "[48]\tvalidation_0-auc:0.665445\n"
     ]
    },
    {
     "name": "stdout",
     "output_type": "stream",
     "text": [
      "[49]\tvalidation_0-auc:0.666171\n"
     ]
    },
    {
     "name": "stdout",
     "output_type": "stream",
     "text": [
      "[50]\tvalidation_0-auc:0.667117\n"
     ]
    },
    {
     "name": "stdout",
     "output_type": "stream",
     "text": [
      "[51]\tvalidation_0-auc:0.668146\n"
     ]
    },
    {
     "name": "stdout",
     "output_type": "stream",
     "text": [
      "[52]\tvalidation_0-auc:0.669177\n"
     ]
    },
    {
     "name": "stdout",
     "output_type": "stream",
     "text": [
      "[53]\tvalidation_0-auc:0.669838\n"
     ]
    },
    {
     "name": "stdout",
     "output_type": "stream",
     "text": [
      "[54]\tvalidation_0-auc:0.670755\n"
     ]
    },
    {
     "name": "stdout",
     "output_type": "stream",
     "text": [
      "[55]\tvalidation_0-auc:0.671302\n"
     ]
    },
    {
     "name": "stdout",
     "output_type": "stream",
     "text": [
      "[56]\tvalidation_0-auc:0.672215\n"
     ]
    },
    {
     "name": "stdout",
     "output_type": "stream",
     "text": [
      "[57]\tvalidation_0-auc:0.672877\n"
     ]
    },
    {
     "name": "stdout",
     "output_type": "stream",
     "text": [
      "[58]\tvalidation_0-auc:0.673687\n"
     ]
    },
    {
     "name": "stdout",
     "output_type": "stream",
     "text": [
      "[59]\tvalidation_0-auc:0.674539\n"
     ]
    },
    {
     "name": "stdout",
     "output_type": "stream",
     "text": [
      "[60]\tvalidation_0-auc:0.675295\n"
     ]
    },
    {
     "name": "stdout",
     "output_type": "stream",
     "text": [
      "[61]\tvalidation_0-auc:0.675972\n"
     ]
    },
    {
     "name": "stdout",
     "output_type": "stream",
     "text": [
      "[62]\tvalidation_0-auc:0.677104\n"
     ]
    },
    {
     "name": "stdout",
     "output_type": "stream",
     "text": [
      "[63]\tvalidation_0-auc:0.677689\n"
     ]
    },
    {
     "name": "stdout",
     "output_type": "stream",
     "text": [
      "[64]\tvalidation_0-auc:0.678415\n"
     ]
    },
    {
     "name": "stdout",
     "output_type": "stream",
     "text": [
      "[65]\tvalidation_0-auc:0.679029\n"
     ]
    },
    {
     "name": "stdout",
     "output_type": "stream",
     "text": [
      "[66]\tvalidation_0-auc:0.679767\n"
     ]
    },
    {
     "name": "stdout",
     "output_type": "stream",
     "text": [
      "[67]\tvalidation_0-auc:0.680629\n"
     ]
    },
    {
     "name": "stdout",
     "output_type": "stream",
     "text": [
      "[68]\tvalidation_0-auc:0.681731\n"
     ]
    },
    {
     "name": "stdout",
     "output_type": "stream",
     "text": [
      "[69]\tvalidation_0-auc:0.68249\n"
     ]
    },
    {
     "name": "stdout",
     "output_type": "stream",
     "text": [
      "[70]\tvalidation_0-auc:0.683413\n"
     ]
    },
    {
     "name": "stdout",
     "output_type": "stream",
     "text": [
      "[71]\tvalidation_0-auc:0.684223\n"
     ]
    },
    {
     "name": "stdout",
     "output_type": "stream",
     "text": [
      "[72]\tvalidation_0-auc:0.684769\n"
     ]
    },
    {
     "name": "stdout",
     "output_type": "stream",
     "text": [
      "[73]\tvalidation_0-auc:0.685033\n"
     ]
    },
    {
     "name": "stdout",
     "output_type": "stream",
     "text": [
      "[74]\tvalidation_0-auc:0.68567\n"
     ]
    },
    {
     "name": "stdout",
     "output_type": "stream",
     "text": [
      "[75]\tvalidation_0-auc:0.686604\n"
     ]
    },
    {
     "name": "stdout",
     "output_type": "stream",
     "text": [
      "\nModel Report\n"
     ]
    },
    {
     "ename": "NameError",
     "evalue": "global name 'metrics' is not defined",
     "traceback": [
      "\u001b[1;31m\u001b[0m",
      "\u001b[1;31mNameError\u001b[0mTraceback (most recent call last)",
      "\u001b[1;32m<ipython-input-14-53cb39bd45c5>\u001b[0m in \u001b[0;36m<module>\u001b[1;34m()\u001b[0m\n\u001b[1;32m----> 1\u001b[1;33m \u001b[0mml\u001b[0m\u001b[1;33m.\u001b[0m\u001b[0mmod_fit\u001b[0m\u001b[1;33m(\u001b[0m\u001b[0mml\u001b[0m\u001b[1;33m.\u001b[0m\u001b[0mmod\u001b[0m\u001b[1;33m)\u001b[0m\u001b[1;33m\u001b[0m\u001b[0m\n\u001b[0m",
      "\u001b[1;32m<ipython-input-5-b3c174dbc5c1>\u001b[0m in \u001b[0;36mmod_fit\u001b[1;34m(self, mod, plot_imp)\u001b[0m\n\u001b[0;32m     49\u001b[0m         \u001b[1;31m#Print model report:\u001b[0m\u001b[1;33m\u001b[0m\u001b[1;33m\u001b[0m\u001b[0m\n\u001b[0;32m     50\u001b[0m         \u001b[1;32mprint\u001b[0m \u001b[1;34m\"\\nModel Report\"\u001b[0m\u001b[1;33m\u001b[0m\u001b[0m\n\u001b[1;32m---> 51\u001b[1;33m         \u001b[1;32mprint\u001b[0m \u001b[1;34m\"Accuracy : %.4g\"\u001b[0m \u001b[1;33m%\u001b[0m \u001b[0mmetrics\u001b[0m\u001b[1;33m.\u001b[0m\u001b[0maccuracy_score\u001b[0m\u001b[1;33m(\u001b[0m\u001b[0mself\u001b[0m\u001b[1;33m.\u001b[0m\u001b[0my_train\u001b[0m\u001b[1;33m,\u001b[0m \u001b[0mdtrain_predictions\u001b[0m\u001b[1;33m)\u001b[0m\u001b[1;33m\u001b[0m\u001b[0m\n\u001b[0m\u001b[0;32m     52\u001b[0m         \u001b[1;32mprint\u001b[0m \u001b[1;34m\"AUC Score (Train): %f\"\u001b[0m \u001b[1;33m%\u001b[0m \u001b[0mmetrics\u001b[0m\u001b[1;33m.\u001b[0m\u001b[0mroc_auc_score\u001b[0m\u001b[1;33m(\u001b[0m\u001b[0mself\u001b[0m\u001b[1;33m.\u001b[0m\u001b[0my_train\u001b[0m\u001b[1;33m,\u001b[0m \u001b[0mdtrain_predprob\u001b[0m\u001b[1;33m)\u001b[0m\u001b[1;33m\u001b[0m\u001b[0m\n\u001b[0;32m     53\u001b[0m \u001b[1;33m\u001b[0m\u001b[0m\n",
      "\u001b[1;31mNameError\u001b[0m: global name 'metrics' is not defined"
     ],
     "output_type": "error"
    }
   ],
   "source": [
    "ml.mod_fit(ml.mod)"
   ]
  }
 ],
 "metadata": {
  "kernelspec": {
   "display_name": "Python 2",
   "language": "python",
   "name": "python2"
  },
  "language_info": {
   "codemirror_mode": {
    "name": "ipython",
    "version": 2.0
   },
   "file_extension": ".py",
   "mimetype": "text/x-python",
   "name": "python",
   "nbconvert_exporter": "python",
   "pygments_lexer": "ipython2",
   "version": "2.7.6"
  }
 },
 "nbformat": 4,
 "nbformat_minor": 0
}