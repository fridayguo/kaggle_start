{
 "cells": [
  {
   "cell_type": "code",
   "execution_count": 31,
   "metadata": {
    "collapsed": true
   },
   "outputs": [],
   "source": [
    "import numpy as np\n",
    "\n",
    "def gini(actual, pred, cmpcol = 0, sortcol = 1):\n",
    "     assert( len(actual) == len(pred) )\n",
    "     all = np.asarray(np.c_[ actual, pred, np.arange(len(actual)) ], dtype=np.float)\n",
    "     #print all \n",
    "     all = all[ np.lexsort((all[:,2], -1*all[:,1])) ]\n",
    "     print all \n",
    "     \n",
    "     totalLosses = all[:,0].sum()\n",
    "     print 'totalLosses', totalLosses\n",
    "     giniSum = all[:,0].cumsum().sum() / totalLosses\n",
    "     print 'giniSum', giniSum\n",
    "     giniSum -= (len(actual) + 1) / 2.\n",
    "     print 'giniSum', giniSum\n",
    "     return giniSum / len(actual)\n",
    " \n",
    "def gini_normalized(a, p):\n",
    "     return gini(a, p) / gini(a, a)"
   ]
  },
  {
   "cell_type": "code",
   "execution_count": 34,
   "metadata": {},
   "outputs": [
    {
     "name": "stdout",
     "output_type": "stream",
     "text": [
      "[[  1.    1.   16. ]\n [  1.    1.   17. ]\n [  1.    1.   18. ]\n [  1.    1.   19. ]\n [  0.    0.5  14. ]\n [  1.    0.4  15. ]\n [  0.    0.    0. ]\n [  0.    0.    1. ]\n [  0.    0.    2. ]\n [  0.    0.    3. ]\n [  0.    0.    4. ]\n [  0.    0.    5. ]\n [  0.    0.    6. ]\n [  0.    0.    7. ]\n [  0.    0.    8. ]\n [  0.    0.    9. ]\n [  0.    0.   10. ]\n [  0.    0.   11. ]\n [  0.    0.   12. ]\n [  0.    0.   13. ]]\ntotalLosses 5.0\nginiSum 17.8\nginiSum 7.3\n[[  1.   1.  15.]\n [  1.   1.  16.]\n [  1.   1.  17.]\n [  1.   1.  18.]\n [  1.   1.  19.]\n [  0.   0.   0.]\n [  0.   0.   1.]\n [  0.   0.   2.]\n [  0.   0.   3.]\n [  0.   0.   4.]\n [  0.   0.   5.]\n [  0.   0.   6.]\n [  0.   0.   7.]\n [  0.   0.   8.]\n [  0.   0.   9.]\n [  0.   0.  10.]\n [  0.   0.  11.]\n [  0.   0.  12.]\n [  0.   0.  13.]\n [  0.   0.  14.]]\ntotalLosses 5.0\nginiSum 18.0\nginiSum 7.5\n"
     ]
    },
    {
     "data": {
      "text/plain": [
       "0.97333333333333349"
      ]
     },
     "execution_count": 34,
     "metadata": {},
     "output_type": "execute_result"
    }
   ],
   "source": [
    "a = [0,0,0,0,0,0,0,0,0,0,0,0,0,0,0,1,1,1,1,1]\n",
    "p = [0,0,0,0,0,0,0,0,0,0,0,0,0,0,0.5,0.4,1,1,1,1]\n",
    "#gini(a, a)\n",
    "gini_normalized(a, p)"
   ]
  },
  {
   "cell_type": "code",
   "execution_count": 16,
   "metadata": {},
   "outputs": [],
   "source": [
    ""
   ]
  },
  {
   "cell_type": "code",
   "execution_count": null,
   "metadata": {},
   "outputs": [],
   "source": [
    ""
   ]
  }
 ],
 "metadata": {
  "kernelspec": {
   "display_name": "Python 2",
   "language": "python",
   "name": "python2"
  },
  "language_info": {
   "codemirror_mode": {
    "name": "ipython",
    "version": 2.0
   },
   "file_extension": ".py",
   "mimetype": "text/x-python",
   "name": "python",
   "nbconvert_exporter": "python",
   "pygments_lexer": "ipython2",
   "version": "2.7.6"
  }
 },
 "nbformat": 4,
 "nbformat_minor": 0
}