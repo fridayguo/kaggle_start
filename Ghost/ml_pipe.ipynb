{
 "cells": [
  {
   "cell_type": "markdown",
   "metadata": {
    "collapsed": true
   },
   "source": [
    "1. 编写一个类，支持读取文件，自动将train和test的数据集合并在一起，并且通过flag区分，支持指定label来自动生成y\n",
    "2. 可以定义几种常用的处理方式来处理特征，例如标准化和onehotcode等\n",
    "3. 自动分析变量和画图、慢慢来\n",
    "4. 能够设定评价指标后，自动进行CV测试\n",
    "5. 能够自动搜索最佳超参数，然后选取最好的那个\n",
    "6. 支持导出结果文件\n",
    "7. 支持多模型比较和融合"
   ]
  },
  {
   "cell_type": "code",
   "execution_count": 1,
   "metadata": {},
   "outputs": [
    {
     "name": "stderr",
     "output_type": "stream",
     "text": [
      "C:\\Anaconda2\\lib\\site-packages\\sklearn\\cross_validation.py:44: DeprecationWarning: This module was deprecated in version 0.18 in favor of the model_selection module into which all the refactored classes and functions are moved. Also note that the interface of the new CV iterators are different from that of this module. This module will be removed in 0.20.\n  \"This module will be removed in 0.20.\", DeprecationWarning)\n"
     ]
    }
   ],
   "source": [
    "import pandas as pd\n",
    "import numpy as np\n",
    "from sklearn.metrics import r2_score,mean_squared_error\n",
    "from sklearn.model_selection  import cross_val_score\n",
    "from sklearn.model_selection import GridSearchCV\n",
    "import sklearn.metrics \n",
    "import xgboost as xgb\n",
    "import matplotlib.pylab as plt"
   ]
  },
  {
   "cell_type": "code",
   "execution_count": 12,
   "metadata": {},
   "outputs": [],
   "source": [
    "class MLPipe:\n",
    "    # type_c_or_r: c  表示分类模型，r 表示回归模型\n",
    "    def __init__(self, train_file, test_file, y_col, id_col, ft_name, type_c_or_r):\n",
    "        self.train_file = train_file\n",
    "        self.test_file = test_file\n",
    "        self.y_col = y_col\n",
    "        self.id_col = id_col\n",
    "        self.type_c_or_r = type_c_or_r\n",
    "        self.col_is_train = 'col_is_train'\n",
    "        self.mod_list = [] \n",
    "        self.rand_state = 43\n",
    "        self.ft_name = ft_name  # 数据集名称 \n",
    "    \n",
    "    # 用来标识数据集的名字，主要用来输出结果文件名\n",
    "    def set_ft_name(self, ft_name):\n",
    "        self.ft_name = ft_name\n",
    "        \n",
    "    # 读取文件，然后合并两个文件\n",
    "    def parse_file(self):\n",
    "        self.src_train_df = pd.read_csv(self.train_file)\n",
    "        self.src_test_df = pd.read_csv(self.test_file)\n",
    "        \n",
    "        self.train_df = self.src_train_df.copy()\n",
    "        self.test_df = self.src_test_df.copy()\n",
    "        \n",
    "        # 设置test数据的y值为0，并且区分\n",
    "        self.test_df[self.y_col] = 0\n",
    "        self.test_df[self.col_is_train] = 0 \n",
    "        self.train_df[self.col_is_train] = 1\n",
    "        # 合并两个数据集，后续所有操作都在all_df中\n",
    "        self.all_df = pd.concat([self.train_df, self.test_df],ignore_index=True)\n",
    "        \n",
    "        self.print_shape()\n",
    "            \n",
    "    def print_shape(self):\n",
    "        print(\"Train Shape: %d:%d\" %(self.train_df.shape))\n",
    "        print(\"Test  Shape: %d:%d\" %(self.test_df.shape))\n",
    "        print(\"All   Shape: %d:%d\" %(self.all_df.shape))\n",
    "        \n",
    "    def split_X_y(self):\n",
    "        self.X_train = self.all_df[self.all_df[self.col_is_train] == 1]\n",
    "        self.y_train = self.X_train[self.y_col]\n",
    "        self.X_train = self.X_train.drop(self.y_col, axis=1)\n",
    "\n",
    "        self.X_test = self.all_df[self.all_df[self.col_is_train] == 0]\n",
    "        self.y_test = self.X_test[self.y_col]\n",
    "        self.X_test = self.X_test.drop(self.y_col, axis=1)\n",
    "        \n",
    "    def out_res_file(self):\n",
    "        y_pred =  self.mod.predict(self.X_test)\n",
    "        output = pd.DataFrame({'id': self.X_test[self.id_col].astype(np.int32), self.y_col: y_pred})\n",
    "        out_file = self.res_file\n",
    "        print('out_res_file to %s' %out_file)\n",
    "        output.to_csv(out_file, index=False)"
   ]
  },
  {
   "cell_type": "code",
   "execution_count": 39,
   "metadata": {},
   "outputs": [],
   "source": [
    "class XGBC_ML(MLPipe):\n",
    "    #print(\"MSE:\",mean_squared_error(y_eval, y_pred))      \n",
    "    def gen_model(self):   \n",
    "        self.model_name = 'XGBC'\n",
    "        self.params={\n",
    "            'n_estimators':10,\n",
    "            'objective': 'binary:logistic', #回归问题 reg:linear 分类问题  binary:logistic  排序 rank:pairwise\n",
    "            'learning_rate': 0.1, # 学习率，默认0.3\n",
    "            'max_depth':6, # 构建树的深度，越大越容易过拟合.默认6 \n",
    "            'subsample':1, # 随机采样训练样本，默认1\n",
    "            'min_child_weight':1, # 这个参数默认是 1，是每个叶子里面 h 的和至少是多少，对正负样本不均衡时的 0-1 分类而言\n",
    "            #，假设 h 在 0.01 附近，min_child_weight 为 1 意味着叶子节点中最少需要包含 100 个样本。\n",
    "            #这个参数非常影响结果，控制叶子节点中二阶导的和的最小值，该参数值越小，越容易 overfitting。 \n",
    "            'seed':819\n",
    "            }\n",
    "            #from sklearn.ensemble import XGBRegressor\n",
    "        self.mod = xgb.XGBClassifier(**self.params)\n",
    "        self.res_file = 'f%s_m%s_n%d_d%s.csv'  %(self.ft_name, self.model_name, \n",
    "                                                 self.mod.n_estimators,\n",
    "                                                 self.mod.max_depth)\n",
    "        self.early_stopping_rounds = 50\n",
    "        print  self.mod \n",
    "    \n",
    "    def choose_best_n_estimators(self):\n",
    "        xgb_param = self.mod.get_xgb_params()\n",
    "        xgtrain = xgb.DMatrix(ml.X_train, label=ml.y_train)\n",
    "        #max_n_estimators = self.mod.get_params()['n_estimators']\n",
    "        max_n_estimators = 1000\n",
    "        cvresult = xgb.cv(xgb_param, xgtrain, num_boost_round=max_n_estimators,\n",
    "                    nfold=5,metrics='auc', early_stopping_rounds=50, verbose_eval=1,\n",
    "                    seed =819)\n",
    "        ml.mod.set_params(n_estimators=cvresult.shape[0])\n",
    "        print 'Set best_n_estimators:%d'%(cvresult.shape[0])\n",
    "        \n",
    "        # plot \n",
    "        cv_mean = cvresult.iloc[:,[0,2]]\n",
    "        cv_mean.plot()\n",
    "        plt.show()\n",
    "        \n",
    "    def mod_fit(self, mod, plot_imp=True):\n",
    "        eval_set=[(self.X_train, self.y_train)]\n",
    "        # 'eval_metric': 'auc', # rmse mae logloss error auc \n",
    "        mod.fit(self.X_train, self.y_train, eval_metric='auc', eval_set=eval_set)\n",
    "        \n",
    "        #Predict training set:\n",
    "        dtrain_predictions = mod.predict(self.X_train)\n",
    "        dtrain_predprob = mod.predict_proba(self.X_train)[:,1]\n",
    "            \n",
    "        #Print model report:\n",
    "        print \"\\nModel Report\"\n",
    "        print \"Accuracy : %.4g\" % metrics.accuracy_score(self.y_train, dtrain_predictions)\n",
    "        print \"AUC Score (Train): %f\" % metrics.roc_auc_score(self.y_train, dtrain_predprob)\n",
    "                        \n",
    "        feat_imp = pd.Series(mod.booster().get_fscore()).sort_values(ascending=False)\n",
    "        feat_imp.plot(kind='bar', title='Feature Importances')\n",
    "        plt.ylabel('Feature Importance Score')\n",
    "        plt.show()\n",
    "        \n",
    "    def mod_cv(self, cv=5):\n",
    "        scores = cross_val_score(self.mod, self.X_train, self.y_train, cv=cv, scoring='r2')\n",
    "        print(\"Mod[%s]  R2: %0.6f (+/- %0.6f)\") %(self.model_name, scores.mean(), scores.std())\n",
    "        \n",
    "    def mod_gv(self, cv_params):\n",
    "        \n",
    "cv_params = {'max_depth': [2,3,4,5,6], 'min_child_weight': [1,5]}\n",
    "        gv = GridSearchCV(clt, cv_params,  cv = 5, verbose=10,\n",
    "                             n_jobs = 2)\n",
    "optimized_GBM.fit(ml.X_train, ml.y_train)\n",
    "#optimized_GBM.grid_scores_\n",
    "optimized_GBM"
   ]
  },
  {
   "cell_type": "code",
   "execution_count": 40,
   "metadata": {},
   "outputs": [
    {
     "name": "stdout",
     "output_type": "stream",
     "text": [
      "Train Shape: 371:7\nTest  Shape: 529:7\nAll   Shape: 900:7\n"
     ]
    }
   ],
   "source": [
    "ml = XGBC_ML(train_file='./Ghost/train.csv', test_file='./Ghost/test.csv', \n",
    "            y_col='type', id_col='id', ft_name='ghost', type_c_or_r='c')\n",
    "ml.parse_file()\n",
    "ml.split_X_y()"
   ]
  },
  {
   "cell_type": "code",
   "execution_count": 41,
   "metadata": {},
   "outputs": [],
   "source": [
    "all_df = ml.all_df\n",
    "#all_df.info()"
   ]
  },
  {
   "cell_type": "code",
   "execution_count": 42,
   "metadata": {},
   "outputs": [
    {
     "name": "stdout",
     "output_type": "stream",
     "text": [
      "XGBClassifier(base_score=0.5, colsample_bylevel=1, colsample_bytree=1,\n       gamma=0, learning_rate=0.1, max_delta_step=0, max_depth=6,\n       min_child_weight=1, missing=None, n_estimators=10, nthread=-1,\n       objective='binary:logistic', reg_alpha=0, reg_lambda=1,\n       scale_pos_weight=1, seed=819, silent=True, subsample=1)\n"
     ]
    }
   ],
   "source": [
    "ml.gen_model()\n",
    "#ml.mod_fit(ml.mod)"
   ]
  },
  {
   "cell_type": "code",
   "execution_count": 43,
   "metadata": {
    "collapsed": true
   },
   "outputs": [
    {
     "name": "stdout",
     "output_type": "stream",
     "text": [
      "[0]\tvalidation_0-auc:0.967377\n"
     ]
    },
    {
     "name": "stdout",
     "output_type": "stream",
     "text": [
      "[1]\tvalidation_0-auc:0.977135\n"
     ]
    },
    {
     "name": "stdout",
     "output_type": "stream",
     "text": [
      "[2]\tvalidation_0-auc:0.980769\n"
     ]
    },
    {
     "name": "stdout",
     "output_type": "stream",
     "text": [
      "[3]\tvalidation_0-auc:0.979474\n"
     ]
    },
    {
     "name": "stdout",
     "output_type": "stream",
     "text": [
      "[4]\tvalidation_0-auc:0.980483\n"
     ]
    },
    {
     "name": "stdout",
     "output_type": "stream",
     "text": [
      "[5]\tvalidation_0-auc:0.980063\n"
     ]
    },
    {
     "name": "stdout",
     "output_type": "stream",
     "text": [
      "[6]\tvalidation_0-auc:0.982183\n"
     ]
    },
    {
     "name": "stdout",
     "output_type": "stream",
     "text": [
      "[7]\tvalidation_0-auc:0.98654\n"
     ]
    },
    {
     "name": "stdout",
     "output_type": "stream",
     "text": [
      "[8]\tvalidation_0-auc:0.991975\n"
     ]
    },
    {
     "name": "stdout",
     "output_type": "stream",
     "text": [
      "[9]\tvalidation_0-auc:0.992277\n"
     ]
    },
    {
     "name": "stdout",
     "output_type": "stream",
     "text": [
      "\nModel Report\n"
     ]
    },
    {
     "ename": "NameError",
     "evalue": "global name 'metrics' is not defined",
     "traceback": [
      "\u001b[1;31m\u001b[0m",
      "\u001b[1;31mNameError\u001b[0mTraceback (most recent call last)",
      "\u001b[1;32m<ipython-input-43-a37b00313461>\u001b[0m in \u001b[0;36m<module>\u001b[1;34m()\u001b[0m\n\u001b[1;32m----> 1\u001b[1;33m \u001b[0mml\u001b[0m\u001b[1;33m.\u001b[0m\u001b[0mmod_fit\u001b[0m\u001b[1;33m(\u001b[0m\u001b[0mml\u001b[0m\u001b[1;33m.\u001b[0m\u001b[0mmod\u001b[0m\u001b[1;33m)\u001b[0m\u001b[1;33m\u001b[0m\u001b[0m\n\u001b[0m\u001b[0;32m      2\u001b[0m \u001b[1;31m#ml.cv_model()\u001b[0m\u001b[1;33m\u001b[0m\u001b[1;33m\u001b[0m\u001b[0m\n",
      "\u001b[1;32m<ipython-input-39-e6ed50cc580d>\u001b[0m in \u001b[0;36mmod_fit\u001b[1;34m(self, mod, plot_imp)\u001b[0m\n\u001b[0;32m     49\u001b[0m         \u001b[1;31m#Print model report:\u001b[0m\u001b[1;33m\u001b[0m\u001b[1;33m\u001b[0m\u001b[0m\n\u001b[0;32m     50\u001b[0m         \u001b[1;32mprint\u001b[0m \u001b[1;34m\"\\nModel Report\"\u001b[0m\u001b[1;33m\u001b[0m\u001b[0m\n\u001b[1;32m---> 51\u001b[1;33m         \u001b[1;32mprint\u001b[0m \u001b[1;34m\"Accuracy : %.4g\"\u001b[0m \u001b[1;33m%\u001b[0m \u001b[0mmetrics\u001b[0m\u001b[1;33m.\u001b[0m\u001b[0maccuracy_score\u001b[0m\u001b[1;33m(\u001b[0m\u001b[0mself\u001b[0m\u001b[1;33m.\u001b[0m\u001b[0my_train\u001b[0m\u001b[1;33m,\u001b[0m \u001b[0mdtrain_predictions\u001b[0m\u001b[1;33m)\u001b[0m\u001b[1;33m\u001b[0m\u001b[0m\n\u001b[0m\u001b[0;32m     52\u001b[0m         \u001b[1;32mprint\u001b[0m \u001b[1;34m\"AUC Score (Train): %f\"\u001b[0m \u001b[1;33m%\u001b[0m \u001b[0mmetrics\u001b[0m\u001b[1;33m.\u001b[0m\u001b[0mroc_auc_score\u001b[0m\u001b[1;33m(\u001b[0m\u001b[0mself\u001b[0m\u001b[1;33m.\u001b[0m\u001b[0my_train\u001b[0m\u001b[1;33m,\u001b[0m \u001b[0mdtrain_predprob\u001b[0m\u001b[1;33m)\u001b[0m\u001b[1;33m\u001b[0m\u001b[0m\n\u001b[0;32m     53\u001b[0m \u001b[1;33m\u001b[0m\u001b[0m\n",
      "\u001b[1;31mNameError\u001b[0m: global name 'metrics' is not defined"
     ],
     "output_type": "error"
    }
   ],
   "source": [
    "ml.mod_fit(ml.mod)\n",
    "#ml.cv_model()"
   ]
  },
  {
   "cell_type": "code",
   "execution_count": 44,
   "metadata": {
    "collapsed": true
   },
   "outputs": [
    {
     "name": "stdout",
     "output_type": "stream",
     "text": [
      "Mod[XGBC]  R2: 0.401844 (+/- 0.205405)\n"
     ]
    }
   ],
   "source": [
    "ml.mod_cv()"
   ]
  },
  {
   "cell_type": "code",
   "execution_count": 45,
   "metadata": {
    "collapsed": true
   },
   "outputs": [
    {
     "name": "stdout",
     "output_type": "stream",
     "text": [
      "out_res_file to fghost_mXGBC_n10_d6.csv\n"
     ]
    }
   ],
   "source": [
    "ml.out_res_file()"
   ]
  },
  {
   "cell_type": "code",
   "execution_count": 46,
   "metadata": {
    "collapsed": false
   },
   "outputs": [
    {
     "name": "stdout",
     "output_type": "stream",
     "text": [
      "[0]\ttrain-auc:0.97248+0.0101102\ttest-auc:0.910318+0.0309783\n"
     ]
    },
    {
     "name": "stdout",
     "output_type": "stream",
     "text": [
      "[1]\ttrain-auc:0.976608+0.00506156\ttest-auc:0.918933+0.0344769\n"
     ]
    },
    {
     "name": "stdout",
     "output_type": "stream",
     "text": [
      "[2]\ttrain-auc:0.977064+0.00498619\ttest-auc:0.916679+0.0331164\n"
     ]
    },
    {
     "name": "stdout",
     "output_type": "stream",
     "text": [
      "[3]\ttrain-auc:0.980262+0.00587896\ttest-auc:0.925209+0.0325596\n"
     ]
    },
    {
     "name": "stdout",
     "output_type": "stream",
     "text": [
      "[4]\ttrain-auc:0.984278+0.00212543\ttest-auc:0.922957+0.0327266\n"
     ]
    },
    {
     "name": "stdout",
     "output_type": "stream",
     "text": [
      "[5]\ttrain-auc:0.985255+0.00165774\ttest-auc:0.924358+0.0318356\n"
     ]
    },
    {
     "name": "stdout",
     "output_type": "stream",
     "text": [
      "[6]\ttrain-auc:0.988458+0.00344353\ttest-auc:0.92639+0.0317932\n"
     ]
    },
    {
     "name": "stdout",
     "output_type": "stream",
     "text": [
      "[7]\ttrain-auc:0.989997+0.00253601\ttest-auc:0.926167+0.030235\n"
     ]
    },
    {
     "name": "stdout",
     "output_type": "stream",
     "text": [
      "[8]\ttrain-auc:0.992203+0.00145927\ttest-auc:0.933227+0.0362738\n"
     ]
    },
    {
     "name": "stdout",
     "output_type": "stream",
     "text": [
      "[9]\ttrain-auc:0.993137+0.0013686\ttest-auc:0.933365+0.0358691\n"
     ]
    },
    {
     "name": "stdout",
     "output_type": "stream",
     "text": [
      "[10]\ttrain-auc:0.994392+0.0014632\ttest-auc:0.936486+0.0354621\n"
     ]
    },
    {
     "name": "stdout",
     "output_type": "stream",
     "text": [
      "[11]\ttrain-auc:0.995063+0.00140419\ttest-auc:0.938922+0.0343847\n"
     ]
    },
    {
     "name": "stdout",
     "output_type": "stream",
     "text": [
      "[12]\ttrain-auc:0.995601+0.00162707\ttest-auc:0.938345+0.0351149\n"
     ]
    },
    {
     "name": "stdout",
     "output_type": "stream",
     "text": [
      "[13]\ttrain-auc:0.996018+0.00153947\ttest-auc:0.93917+0.0358601\n"
     ]
    },
    {
     "name": "stdout",
     "output_type": "stream",
     "text": [
      "[14]\ttrain-auc:0.996385+0.00132621\ttest-auc:0.938744+0.034447\n"
     ]
    },
    {
     "name": "stdout",
     "output_type": "stream",
     "text": [
      "[15]\ttrain-auc:0.996851+0.00136722\ttest-auc:0.93991+0.0338432\n"
     ]
    },
    {
     "name": "stdout",
     "output_type": "stream",
     "text": [
      "[16]\ttrain-auc:0.9973+0.0012028\ttest-auc:0.939415+0.0340648\n"
     ]
    },
    {
     "name": "stdout",
     "output_type": "stream",
     "text": [
      "[17]\ttrain-auc:0.997621+0.000962982\ttest-auc:0.938219+0.0356745\n"
     ]
    },
    {
     "name": "stdout",
     "output_type": "stream",
     "text": [
      "[18]\ttrain-auc:0.997949+0.000960042\ttest-auc:0.940112+0.0344587\n"
     ]
    },
    {
     "name": "stdout",
     "output_type": "stream",
     "text": [
      "[19]\ttrain-auc:0.998274+0.000778029\ttest-auc:0.939958+0.0348611\n"
     ]
    },
    {
     "name": "stdout",
     "output_type": "stream",
     "text": [
      "[20]\ttrain-auc:0.998431+0.000556594\ttest-auc:0.943061+0.0331747\n"
     ]
    },
    {
     "name": "stdout",
     "output_type": "stream",
     "text": [
      "[21]\ttrain-auc:0.998684+0.000524774\ttest-auc:0.944813+0.0320975\n"
     ]
    },
    {
     "name": "stdout",
     "output_type": "stream",
     "text": [
      "[22]\ttrain-auc:0.998811+0.000518565\ttest-auc:0.945694+0.0314998\n"
     ]
    },
    {
     "name": "stdout",
     "output_type": "stream",
     "text": [
      "[23]\ttrain-auc:0.99899+0.000404874\ttest-auc:0.945662+0.0309246\n"
     ]
    },
    {
     "name": "stdout",
     "output_type": "stream",
     "text": [
      "[24]\ttrain-auc:0.999054+0.000478154\ttest-auc:0.946011+0.0302842\n"
     ]
    },
    {
     "name": "stdout",
     "output_type": "stream",
     "text": [
      "[25]\ttrain-auc:0.999118+0.000491797\ttest-auc:0.945587+0.0308038\n"
     ]
    },
    {
     "name": "stdout",
     "output_type": "stream",
     "text": [
      "[26]\ttrain-auc:0.99916+0.000484776\ttest-auc:0.946953+0.0303398\n"
     ]
    },
    {
     "name": "stdout",
     "output_type": "stream",
     "text": [
      "[27]\ttrain-auc:0.999233+0.00043384\ttest-auc:0.947506+0.031298\n"
     ]
    },
    {
     "name": "stdout",
     "output_type": "stream",
     "text": [
      "[28]\ttrain-auc:0.999349+0.00039911\ttest-auc:0.946815+0.0318274\n"
     ]
    },
    {
     "name": "stdout",
     "output_type": "stream",
     "text": [
      "[29]\ttrain-auc:0.999464+0.000320122\ttest-auc:0.948851+0.0309011\n"
     ]
    },
    {
     "name": "stdout",
     "output_type": "stream",
     "text": [
      "[30]\ttrain-auc:0.999528+0.000297436\ttest-auc:0.947987+0.0309694\n"
     ]
    },
    {
     "name": "stdout",
     "output_type": "stream",
     "text": [
      "[31]\ttrain-auc:0.999549+0.000290444\ttest-auc:0.94888+0.0297422\n"
     ]
    },
    {
     "name": "stdout",
     "output_type": "stream",
     "text": [
      "[32]\ttrain-auc:0.999633+0.000238429\ttest-auc:0.949689+0.0288487\n"
     ]
    },
    {
     "name": "stdout",
     "output_type": "stream",
     "text": [
      "[33]\ttrain-auc:0.999664+0.00021654\ttest-auc:0.949372+0.0293431\n"
     ]
    },
    {
     "name": "stdout",
     "output_type": "stream",
     "text": [
      "[34]\ttrain-auc:0.999706+0.000188074\ttest-auc:0.95003+0.0289334\n"
     ]
    },
    {
     "name": "stdout",
     "output_type": "stream",
     "text": [
      "[35]\ttrain-auc:0.999748+0.000156088\ttest-auc:0.949184+0.0281491\n"
     ]
    },
    {
     "name": "stdout",
     "output_type": "stream",
     "text": [
      "[36]\ttrain-auc:0.999758+0.000146165\ttest-auc:0.949859+0.0282215\n"
     ]
    },
    {
     "name": "stdout",
     "output_type": "stream",
     "text": [
      "[37]\ttrain-auc:0.99979+0.000114484\ttest-auc:0.949349+0.0285042\n"
     ]
    },
    {
     "name": "stdout",
     "output_type": "stream",
     "text": [
      "[38]\ttrain-auc:0.9998+0.000106678\ttest-auc:0.949503+0.0288159\n"
     ]
    },
    {
     "name": "stdout",
     "output_type": "stream",
     "text": [
      "[39]\ttrain-auc:0.999821+0.00011252\ttest-auc:0.949655+0.0285415\n"
     ]
    },
    {
     "name": "stdout",
     "output_type": "stream",
     "text": [
      "[40]\ttrain-auc:0.999864+9.05547e-05\ttest-auc:0.949156+0.0278611\n"
     ]
    },
    {
     "name": "stdout",
     "output_type": "stream",
     "text": [
      "[41]\ttrain-auc:0.999885+8.32284e-05\ttest-auc:0.94899+0.0280022\n"
     ]
    },
    {
     "name": "stdout",
     "output_type": "stream",
     "text": [
      "[42]\ttrain-auc:0.999895+7.35429e-05\ttest-auc:0.949484+0.0276059\n"
     ]
    },
    {
     "name": "stdout",
     "output_type": "stream",
     "text": [
      "[43]\ttrain-auc:0.999906+8.35282e-05\ttest-auc:0.949857+0.0287551\n"
     ]
    },
    {
     "name": "stdout",
     "output_type": "stream",
     "text": [
      "[44]\ttrain-auc:0.999916+5.33479e-05\ttest-auc:0.949516+0.0286727\n"
     ]
    },
    {
     "name": "stdout",
     "output_type": "stream",
     "text": [
      "[45]\ttrain-auc:0.999958+3.89687e-05\ttest-auc:0.950001+0.0281284\n"
     ]
    },
    {
     "name": "stdout",
     "output_type": "stream",
     "text": [
      "[46]\ttrain-auc:0.999958+3.89687e-05\ttest-auc:0.950155+0.027636\n"
     ]
    },
    {
     "name": "stdout",
     "output_type": "stream",
     "text": [
      "[47]\ttrain-auc:0.999958+3.89687e-05\ttest-auc:0.950161+0.0276846\n"
     ]
    },
    {
     "name": "stdout",
     "output_type": "stream",
     "text": [
      "[48]\ttrain-auc:0.999958+3.89687e-05\ttest-auc:0.950155+0.0273786\n"
     ]
    },
    {
     "name": "stdout",
     "output_type": "stream",
     "text": [
      "[49]\ttrain-auc:0.999969+4.17018e-05\ttest-auc:0.950824+0.0271241\n"
     ]
    },
    {
     "name": "stdout",
     "output_type": "stream",
     "text": [
      "[50]\ttrain-auc:0.999969+4.17018e-05\ttest-auc:0.951136+0.0266957\n"
     ]
    },
    {
     "name": "stdout",
     "output_type": "stream",
     "text": [
      "[51]\ttrain-auc:0.999979+2.57216e-05\ttest-auc:0.951471+0.026197\n"
     ]
    },
    {
     "name": "stdout",
     "output_type": "stream",
     "text": [
      "[52]\ttrain-auc:0.999969+4.17018e-05\ttest-auc:0.951798+0.0258883\n"
     ]
    },
    {
     "name": "stdout",
     "output_type": "stream",
     "text": [
      "[53]\ttrain-auc:0.999989+2.12e-05\ttest-auc:0.95076+0.0258406\n"
     ]
    },
    {
     "name": "stdout",
     "output_type": "stream",
     "text": [
      "[54]\ttrain-auc:0.999989+2.12e-05\ttest-auc:0.951102+0.0253941\n"
     ]
    },
    {
     "name": "stdout",
     "output_type": "stream",
     "text": [
      "[55]\ttrain-auc:0.999989+2.12e-05\ttest-auc:0.951445+0.0254434\n"
     ]
    },
    {
     "name": "stdout",
     "output_type": "stream",
     "text": [
      "[56]\ttrain-auc:0.999989+2.12e-05\ttest-auc:0.95162+0.0251292\n"
     ]
    },
    {
     "name": "stdout",
     "output_type": "stream",
     "text": [
      "[57]\ttrain-auc:0.999989+2.12e-05\ttest-auc:0.951452+0.0252461\n"
     ]
    },
    {
     "name": "stdout",
     "output_type": "stream",
     "text": [
      "[58]\ttrain-auc:0.999989+2.12e-05\ttest-auc:0.951285+0.025373\n"
     ]
    },
    {
     "name": "stdout",
     "output_type": "stream",
     "text": [
      "[59]\ttrain-auc:0.999989+2.12e-05\ttest-auc:0.95145+0.0259774\n"
     ]
    },
    {
     "name": "stdout",
     "output_type": "stream",
     "text": [
      "[60]\ttrain-auc:0.999989+2.12e-05\ttest-auc:0.951621+0.025329\n"
     ]
    },
    {
     "name": "stdout",
     "output_type": "stream",
     "text": [
      "[61]\ttrain-auc:0.999989+2.12e-05\ttest-auc:0.951447+0.0253896\n"
     ]
    },
    {
     "name": "stdout",
     "output_type": "stream",
     "text": [
      "[62]\ttrain-auc:0.999989+2.12e-05\ttest-auc:0.951796+0.0252731\n"
     ]
    },
    {
     "name": "stdout",
     "output_type": "stream",
     "text": [
      "[63]\ttrain-auc:0.999989+2.12e-05\ttest-auc:0.95144+0.0253511\n"
     ]
    },
    {
     "name": "stdout",
     "output_type": "stream",
     "text": [
      "[64]\ttrain-auc:0.999989+2.12e-05\ttest-auc:0.95194+0.0254628\n"
     ]
    },
    {
     "name": "stdout",
     "output_type": "stream",
     "text": [
      "[65]\ttrain-auc:1+0\ttest-auc:0.951955+0.0255785\n"
     ]
    },
    {
     "name": "stdout",
     "output_type": "stream",
     "text": [
      "[66]\ttrain-auc:1+0\ttest-auc:0.952604+0.0248769\n"
     ]
    },
    {
     "name": "stdout",
     "output_type": "stream",
     "text": [
      "[67]\ttrain-auc:1+0\ttest-auc:0.952437+0.0250191\n"
     ]
    },
    {
     "name": "stdout",
     "output_type": "stream",
     "text": [
      "[68]\ttrain-auc:1+0\ttest-auc:0.952262+0.0250801\n"
     ]
    },
    {
     "name": "stdout",
     "output_type": "stream",
     "text": [
      "[69]\ttrain-auc:1+0\ttest-auc:0.952262+0.0250801\n"
     ]
    },
    {
     "name": "stdout",
     "output_type": "stream",
     "text": [
      "[70]\ttrain-auc:1+0\ttest-auc:0.952277+0.0251983\n"
     ]
    },
    {
     "name": "stdout",
     "output_type": "stream",
     "text": [
      "[71]\ttrain-auc:1+0\ttest-auc:0.95211+0.0250664\n"
     ]
    },
    {
     "name": "stdout",
     "output_type": "stream",
     "text": [
      "[72]\ttrain-auc:1+0\ttest-auc:0.952118+0.0248853\n"
     ]
    },
    {
     "name": "stdout",
     "output_type": "stream",
     "text": [
      "[73]\ttrain-auc:1+0\ttest-auc:0.952452+0.0248714\n"
     ]
    },
    {
     "name": "stdout",
     "output_type": "stream",
     "text": [
      "[74]\ttrain-auc:1+0\ttest-auc:0.952466+0.0250079\n"
     ]
    },
    {
     "name": "stdout",
     "output_type": "stream",
     "text": [
      "[75]\ttrain-auc:1+0\ttest-auc:0.952306+0.0251975\n"
     ]
    },
    {
     "name": "stdout",
     "output_type": "stream",
     "text": [
      "[76]\ttrain-auc:1+0\ttest-auc:0.9523+0.0251484\n"
     ]
    },
    {
     "name": "stdout",
     "output_type": "stream",
     "text": [
      "[77]\ttrain-auc:1+0\ttest-auc:0.952306+0.0251975\n"
     ]
    },
    {
     "name": "stdout",
     "output_type": "stream",
     "text": [
      "[78]\ttrain-auc:1+0\ttest-auc:0.951986+0.0255848\n"
     ]
    },
    {
     "name": "stdout",
     "output_type": "stream",
     "text": [
      "[79]\ttrain-auc:1+0\ttest-auc:0.952312+0.0250031\n"
     ]
    },
    {
     "name": "stdout",
     "output_type": "stream",
     "text": [
      "[80]\ttrain-auc:1+0\ttest-auc:0.952152+0.025202\n"
     ]
    },
    {
     "name": "stdout",
     "output_type": "stream",
     "text": [
      "[81]\ttrain-auc:1+0\ttest-auc:0.951979+0.0250095\n"
     ]
    },
    {
     "name": "stdout",
     "output_type": "stream",
     "text": [
      "[82]\ttrain-auc:1+0\ttest-auc:0.951652+0.0253358\n"
     ]
    },
    {
     "name": "stdout",
     "output_type": "stream",
     "text": [
      "[83]\ttrain-auc:1+0\ttest-auc:0.951665+0.0257293\n"
     ]
    },
    {
     "name": "stdout",
     "output_type": "stream",
     "text": [
      "[84]\ttrain-auc:1+0\ttest-auc:0.952006+0.0255683\n"
     ]
    },
    {
     "name": "stdout",
     "output_type": "stream",
     "text": [
      "[85]\ttrain-auc:1+0\ttest-auc:0.952005+0.0255842\n"
     ]
    },
    {
     "name": "stdout",
     "output_type": "stream",
     "text": [
      "[86]\ttrain-auc:1+0\ttest-auc:0.951838+0.0254635\n"
     ]
    },
    {
     "name": "stdout",
     "output_type": "stream",
     "text": [
      "[87]\ttrain-auc:1+0\ttest-auc:0.951671+0.0255756\n"
     ]
    },
    {
     "name": "stdout",
     "output_type": "stream",
     "text": [
      "[88]\ttrain-auc:1+0\ttest-auc:0.951505+0.0256917\n"
     ]
    },
    {
     "name": "stdout",
     "output_type": "stream",
     "text": [
      "[89]\ttrain-auc:1+0\ttest-auc:0.951509+0.0260046\n"
     ]
    },
    {
     "name": "stdout",
     "output_type": "stream",
     "text": [
      "[90]\ttrain-auc:1+0\ttest-auc:0.951518+0.0260823\n"
     ]
    },
    {
     "name": "stdout",
     "output_type": "stream",
     "text": [
      "[91]\ttrain-auc:1+0\ttest-auc:0.951532+0.026253\n"
     ]
    },
    {
     "name": "stdout",
     "output_type": "stream",
     "text": [
      "[92]\ttrain-auc:1+0\ttest-auc:0.951853+0.0258417\n"
     ]
    },
    {
     "name": "stdout",
     "output_type": "stream",
     "text": [
      "[93]\ttrain-auc:1+0\ttest-auc:0.952028+0.025809\n"
     ]
    },
    {
     "name": "stdout",
     "output_type": "stream",
     "text": [
      "[94]\ttrain-auc:1+0\ttest-auc:0.951686+0.0259683\n"
     ]
    },
    {
     "name": "stdout",
     "output_type": "stream",
     "text": [
      "[95]\ttrain-auc:1+0\ttest-auc:0.951684+0.0259627\n"
     ]
    },
    {
     "name": "stdout",
     "output_type": "stream",
     "text": [
      "[96]\ttrain-auc:1+0\ttest-auc:0.951845+0.0257574\n"
     ]
    },
    {
     "name": "stdout",
     "output_type": "stream",
     "text": [
      "[97]\ttrain-auc:1+0\ttest-auc:0.951684+0.0259627\n"
     ]
    },
    {
     "name": "stdout",
     "output_type": "stream",
     "text": [
      "[98]\ttrain-auc:1+0\ttest-auc:0.951524+0.02617\n"
     ]
    },
    {
     "name": "stdout",
     "output_type": "stream",
     "text": [
      "[99]\ttrain-auc:1+0\ttest-auc:0.951678+0.0256419\n"
     ]
    },
    {
     "name": "stdout",
     "output_type": "stream",
     "text": [
      "[100]\ttrain-auc:1+0\ttest-auc:0.951498+0.0253674\n"
     ]
    },
    {
     "name": "stdout",
     "output_type": "stream",
     "text": [
      "[101]\ttrain-auc:1+0\ttest-auc:0.951503+0.0256842\n"
     ]
    },
    {
     "name": "stdout",
     "output_type": "stream",
     "text": [
      "[102]\ttrain-auc:1+0\ttest-auc:0.951518+0.025847\n"
     ]
    },
    {
     "name": "stdout",
     "output_type": "stream",
     "text": [
      "[103]\ttrain-auc:1+0\ttest-auc:0.951357+0.0260542\n"
     ]
    },
    {
     "name": "stdout",
     "output_type": "stream",
     "text": [
      "[104]\ttrain-auc:1+0\ttest-auc:0.951349+0.0259816\n"
     ]
    },
    {
     "name": "stdout",
     "output_type": "stream",
     "text": [
      "[105]\ttrain-auc:1+0\ttest-auc:0.951516+0.0258733\n"
     ]
    },
    {
     "name": "stdout",
     "output_type": "stream",
     "text": [
      "[106]\ttrain-auc:1+0\ttest-auc:0.951176+0.0258133\n"
     ]
    },
    {
     "name": "stdout",
     "output_type": "stream",
     "text": [
      "[107]\ttrain-auc:1+0\ttest-auc:0.951163+0.0256138\n"
     ]
    },
    {
     "name": "stdout",
     "output_type": "stream",
     "text": [
      "[108]\ttrain-auc:1+0\ttest-auc:0.951338+0.0255736\n"
     ]
    },
    {
     "name": "stdout",
     "output_type": "stream",
     "text": [
      "[109]\ttrain-auc:1+0\ttest-auc:0.950822+0.0255424\n"
     ]
    },
    {
     "name": "stdout",
     "output_type": "stream",
     "text": [
      "[110]\ttrain-auc:1+0\ttest-auc:0.951171+0.0254592\n"
     ]
    },
    {
     "name": "stdout",
     "output_type": "stream",
     "text": [
      "[111]\ttrain-auc:1+0\ttest-auc:0.951005+0.0255779\n"
     ]
    },
    {
     "name": "stdout",
     "output_type": "stream",
     "text": [
      "[112]\ttrain-auc:1+0\ttest-auc:0.951505+0.0254581\n"
     ]
    },
    {
     "name": "stdout",
     "output_type": "stream",
     "text": [
      "[113]\ttrain-auc:1+0\ttest-auc:0.951163+0.0253848\n"
     ]
    },
    {
     "name": "stdout",
     "output_type": "stream",
     "text": [
      "[114]\ttrain-auc:1+0\ttest-auc:0.951324+0.025409\n"
     ]
    },
    {
     "name": "stdout",
     "output_type": "stream",
     "text": [
      "[115]\ttrain-auc:1+0\ttest-auc:0.951157+0.0255289\n"
     ]
    },
    {
     "name": "stdout",
     "output_type": "stream",
     "text": [
      "Set best_n_estimators:67\n"
     ]
    },
    {
     "data": {
      "image/png": "[encoded data removed]",
      "text/plain": [
       "<matplotlib.figure.Figure at 0xc5d1f60>"
      ]
     },
     "metadata": {},
     "output_type": "display_data"
    }
   ],
   "source": [
    "ml.choose_best_n_estimators()"
   ]
  },
  {
   "cell_type": "code",
   "execution_count": 36,
   "metadata": {
    "collapsed": true
   },
   "outputs": [
    {
     "data": {
      "image/png": "[encoded data removed]",
      "text/plain": [
       "<matplotlib.figure.Figure at 0xc873c18>"
      ]
     },
     "metadata": {},
     "output_type": "display_data"
    }
   ],
   "source": [
    "cv_mean = cvresult.iloc[:,[0,2]]\n",
    "cv_mean.plot()\n",
    "plt.show()"
   ]
  },
  {
   "cell_type": "code",
   "execution_count": 45,
   "metadata": {},
   "outputs": [
    {
     "data": {
      "text/plain": [
       "{'base_score': 0.5,\n 'colsample_bylevel': 1,\n 'colsample_bytree': 1,\n 'gamma': 0,\n 'learning_rate': 0.1,\n 'max_delta_step': 0,\n 'max_depth': 3,\n 'min_child_weight': 1,\n 'missing': None,\n 'n_estimators': 100,\n 'nthread': -1,\n 'objective': 'reg:linear',\n 'reg_alpha': 0,\n 'reg_lambda': 1,\n 'scale_pos_weight': 1,\n 'seed': 0,\n 'silent': True,\n 'subsample': 1}"
      ]
     },
     "execution_count": 45,
     "metadata": {},
     "output_type": "execute_result"
    }
   ],
   "source": [
    "ml.mod_list[1]['mod'].get_params()"
   ]
  },
  {
   "cell_type": "code",
   "execution_count": 48,
   "metadata": {},
   "outputs": [
    {
     "name": "stdout",
     "output_type": "stream",
     "text": [
      "Fitting 5 folds for each of 10 candidates, totalling 50 fits\n"
     ]
    },
    {
     "name": "stderr",
     "output_type": "stream",
     "text": [
      "[Parallel(n_jobs=2)]: Done   1 tasks      | elapsed:    2.0s\n"
     ]
    },
    {
     "name": "stderr",
     "output_type": "stream",
     "text": [
      "[Parallel(n_jobs=2)]: Done   4 tasks      | elapsed:    3.3s\n[Parallel(n_jobs=2)]: Done   9 tasks      | elapsed:    3.4s\n"
     ]
    },
    {
     "name": "stderr",
     "output_type": "stream",
     "text": [
      "[Parallel(n_jobs=2)]: Done  14 tasks      | elapsed:    3.5s\n[Parallel(n_jobs=2)]: Batch computation too fast (0.1821s.) Setting batch_size=2.\n[Parallel(n_jobs=2)]: Done  21 tasks      | elapsed:    3.7s\n"
     ]
    },
    {
     "name": "stderr",
     "output_type": "stream",
     "text": [
      "[Parallel(n_jobs=2)]: Done  33 tasks      | elapsed:    4.3s\n"
     ]
    },
    {
     "name": "stderr",
     "output_type": "stream",
     "text": [
      "[Parallel(n_jobs=2)]: Done  47 out of  50 | elapsed:    4.8s remaining:    0.2s\n[Parallel(n_jobs=2)]: Done  50 out of  50 | elapsed:    4.8s finished\n"
     ]
    },
    {
     "data": {
      "text/plain": [
       "GridSearchCV(cv=5, error_score='raise',\n       estimator=XGBClassifier(base_score=0.5, colsample_bylevel=1, colsample_bytree=1,\n       gamma=0, learning_rate=0.1, max_delta_step=0, max_depth=6,\n       min_child_weight=1, missing=None, n_estimators=67, nthread=-1,\n       objective='binary:logistic', reg_alpha=0, reg_lambda=1,\n       scale_pos_weight=1, seed=819, silent=True, subsample=1),\n       fit_params={}, iid=True, n_jobs=2,\n       param_grid={'max_depth': [2, 3, 4, 5, 6], 'min_child_weight': [1, 5]},\n       pre_dispatch='2*n_jobs', refit=True, return_train_score=True,\n       scoring=None, verbose=10)"
      ]
     },
     "execution_count": 48,
     "metadata": {},
     "output_type": "execute_result"
    }
   ],
   "source": [
    "from sklearn.model_selection import GridSearchCV\n",
    "cv_params = {'max_depth': [2,3,4,5,6], 'min_child_weight': [1,5]}\n",
    "clt = ml.mod \n",
    "\n",
    "optimized_GBM = GridSearchCV(clt, \n",
    "                             cv_params,  \n",
    "                             cv = 5, verbose=10,\n",
    "                             n_jobs = 2)\n",
    "optimized_GBM.fit(ml.X_train, ml.y_train)\n",
    "#optimized_GBM.grid_scores_\n",
    "optimized_GBM"
   ]
  },
  {
   "cell_type": "code",
   "execution_count": 67,
   "metadata": {},
   "outputs": [
    {
     "data": {
      "text/plain": [
       "XGBRegressor(base_score=0.5, colsample_bylevel=1, colsample_bytree=1, gamma=0,\n       learning_rate=0.1, max_delta_step=0, max_depth=3,\n       min_child_weight=1, missing=None, n_estimators=100, nthread=-1,\n       objective='reg:linear', reg_alpha=0, reg_lambda=1,\n       scale_pos_weight=1, seed=0, silent=True, subsample=1)"
      ]
     },
     "execution_count": 67,
     "metadata": {},
     "output_type": "execute_result"
    }
   ],
   "source": [
    "optimized_GBM.best_params_\n",
    "#optimized_GBM.best_estimator_\n",
    "\n",
    "ml.mod_list[1]['mod']"
   ]
  },
  {
   "cell_type": "code",
   "execution_count": 64,
   "metadata": {},
   "outputs": [
    {
     "data": {
      "text/plain": [
       "{'mean_fit_time': array([ 22.13940001,  19.81980009,  27.28840003,  26.69040003,\n         31.84960003,  33.41399999,  40.33579998,  39.01080003,\n         46.83200006,  48.64400001]),\n 'mean_score_time': array([ 0.0566    ,  0.04359989,  0.04319997,  0.04139996,  0.03980002,\n         0.05380006,  0.05660005,  0.04879999,  0.05159998,  0.05079999]),\n 'mean_test_score': array([ 0.49864456,  0.52326292,  0.44414339,  0.48678984,  0.41074115,\n         0.46114118,  0.37334339,  0.43046364,  0.27229416,  0.42463209]),\n 'mean_train_score': array([ 0.60930927,  0.60262171,  0.65474553,  0.63972517,  0.70270241,\n         0.6786426 ,  0.74995286,  0.71821972,  0.79545233,  0.75475748]),\n 'param_max_depth': masked_array(data = [2 2 3 3 4 4 5 5 6 6],\n              mask = [False False False False False False False False False False],\n        fill_value = ?),\n 'param_min_child_weight': masked_array(data = [1 5 1 5 1 5 1 5 1 5],\n              mask = [False False False False False False False False False False],\n        fill_value = ?),\n 'params': ({'max_depth': 2, 'min_child_weight': 1},\n  {'max_depth': 2, 'min_child_weight': 5},\n  {'max_depth': 3, 'min_child_weight': 1},\n  {'max_depth': 3, 'min_child_weight': 5},\n  {'max_depth': 4, 'min_child_weight': 1},\n  {'max_depth': 4, 'min_child_weight': 5},\n  {'max_depth': 5, 'min_child_weight': 1},\n  {'max_depth': 5, 'min_child_weight': 5},\n  {'max_depth': 6, 'min_child_weight': 1},\n  {'max_depth': 6, 'min_child_weight': 5}),\n 'rank_test_score': array([ 2,  1,  5,  3,  8,  4,  9,  6, 10,  7]),\n 'split0_test_score': array([ 0.35076621,  0.38809131,  0.26036987,  0.23854867,  0.20117178,\n         0.13576785,  0.03683368,  0.00272642, -0.4682945 , -0.01054313]),\n 'split0_train_score': array([ 0.61252311,  0.60000429,  0.658325  ,  0.63790571,  0.70370388,\n         0.6770165 ,  0.75291617,  0.71749807,  0.79839189,  0.75312145]),\n 'split1_test_score': array([ 0.44014285,  0.43973222,  0.43814064,  0.43669238,  0.43524581,\n         0.43414616,  0.43291635,  0.43309189,  0.43225213,  0.43063279]),\n 'split1_train_score': array([ 0.64229701,  0.63702818,  0.67393126,  0.66470213,  0.71305645,\n         0.6971918 ,  0.75279529,  0.73233724,  0.79481146,  0.76546311]),\n 'split2_test_score': array([ 0.59943807,  0.59876444,  0.60031883,  0.59860242,  0.60116544,\n         0.59674335,  0.59993606,  0.59353473,  0.59753029,  0.59125793]),\n 'split2_train_score': array([ 0.59666008,  0.5916142 ,  0.64701766,  0.63083619,  0.69859057,\n         0.67112979,  0.74522798,  0.71301776,  0.79199292,  0.75149918]),\n 'split3_test_score': array([ 0.54272286,  0.5419333 ,  0.53492135,  0.53397711,  0.53082107,\n         0.52981567,  0.52610941,  0.52511959,  0.52029005,  0.51817789]),\n 'split3_train_score': array([ 0.6121181 ,  0.60641859,  0.66022314,  0.64624303,  0.71187289,\n         0.68555028,  0.76015035,  0.72277631,  0.80356019,  0.75994684]),\n 'split4_test_score': array([ 0.56022593,  0.64794139,  0.38689829,  0.62629432,  0.28515248,\n         0.60940896,  0.27079965,  0.59804458,  0.27970164,  0.59383591]),\n 'split4_train_score': array([ 0.58294804,  0.5780433 ,  0.63423057,  0.61893877,  0.68628825,\n         0.66232464,  0.7386745 ,  0.70546923,  0.78850519,  0.74375685]),\n 'std_fit_time': array([ 5.04123145,  3.76140687,  5.60309709,  5.02388628,  4.4480594 ,\n         4.56610411,  6.55840878,  6.71000242,  7.89027763,  8.7479455 ]),\n 'std_score_time': array([ 0.02415452,  0.01116425,  0.00798494,  0.00422379,  0.00271283,\n         0.00620971,  0.01843475,  0.00530667,  0.00811426,  0.01457948]),\n 'std_test_score': array([ 0.09076368,  0.09678346,  0.11809303,  0.14023114,  0.14898358,\n         0.17418032,  0.20100753,  0.22209303,  0.38511545,  0.2256479 ]),\n 'std_train_score': array([ 0.01980569,  0.01964859,  0.01335284,  0.01536704,  0.00978405,\n         0.01197624,  0.00735358,  0.00905785,  0.00519652,  0.00742761])}"
      ]
     },
     "execution_count": 64,
     "metadata": {},
     "output_type": "execute_result"
    }
   ],
   "source": [
    "optimized_GBM.cv_results_"
   ]
  },
  {
   "cell_type": "code",
   "execution_count": 65,
   "metadata": {},
   "outputs": [
    {
     "name": "stdout",
     "output_type": "stream",
     "text": [
      "Grid scores on development set:\n()\n0.499 (+/-0.182) for {'max_depth': 2, 'min_child_weight': 1}\n0.523 (+/-0.194) for {'max_depth': 2, 'min_child_weight': 5}\n0.444 (+/-0.236) for {'max_depth': 3, 'min_child_weight': 1}\n0.487 (+/-0.280) for {'max_depth': 3, 'min_child_weight': 5}\n0.411 (+/-0.298) for {'max_depth': 4, 'min_child_weight': 1}\n0.461 (+/-0.348) for {'max_depth': 4, 'min_child_weight': 5}\n0.373 (+/-0.402) for {'max_depth': 5, 'min_child_weight': 1}\n0.430 (+/-0.444) for {'max_depth': 5, 'min_child_weight': 5}\n0.272 (+/-0.770) for {'max_depth': 6, 'min_child_weight': 1}\n0.425 (+/-0.451) for {'max_depth': 6, 'min_child_weight': 5}\n()\n"
     ]
    }
   ],
   "source": [
    "print(\"Grid scores on development set:\")\n",
    "print()\n",
    "means = optimized_GBM.cv_results_['mean_test_score']\n",
    "stds = optimized_GBM.cv_results_['std_test_score']\n",
    "for mean, std, params in zip(means, stds, optimized_GBM.cv_results_['params']):\n",
    "    print(\"%0.3f (+/-%0.03f) for %r\"\n",
    "          % (mean, std * 2, params))\n",
    "print()"
   ]
  },
  {
   "cell_type": "code",
   "execution_count": null,
   "metadata": {},
   "outputs": [],
   "source": [
    ""
   ]
  },
  {
   "cell_type": "code",
   "execution_count": 132,
   "metadata": {},
   "outputs": [
    {
     "data": {
      "text/plain": [
       "[(0.5982, 'X314'),\n (0.1099, 'X315'),\n (0.044, 'X118'),\n (0.0409, 'X263'),\n (0.0398, 'X119'),\n (0.0196, 'X136'),\n (0.0194, 'ID'),\n (0.015, 'X29'),\n (0.014, 'X127'),\n (0.0121, 'X279'),\n (0.0091, 'X189'),\n (0.0068, 'X76'),\n (0.0068, 'X5_ag'),\n (0.0061, 'X232'),\n (0.0047, 'X54'),\n (0.0034, 'X1_f'),\n (0.0032, 'X5_q'),\n (0.0022, 'X6_c'),\n (0.002, 'X6_k'),\n (0.0015, 'X345')]"
      ]
     },
     "execution_count": 132,
     "metadata": {},
     "output_type": "execute_result"
    }
   ],
   "source": [
    "feat_names = ml.X_train.columns.values\n",
    "importances = ml.mod_list[0]['mod'].feature_importances_\n",
    "indices = np.argsort(importances)\n",
    "indices[:20].tolist()\n",
    "ml.X_train.columns.values[indices[:20].tolist()]\n",
    "\n",
    "sort_list = sorted(zip(map(lambda x: round(x, 4), importances), feat_names), reverse=True)\n",
    "sort_list[:20]"
   ]
  },
  {
   "cell_type": "code",
   "execution_count": null,
   "metadata": {},
   "outputs": [],
   "source": [
    ""
   ]
  },
  {
   "cell_type": "code",
   "execution_count": 90,
   "metadata": {
    "collapsed": false
   },
   "outputs": [
    {
     "data": {
      "text/plain": [
       "[{'mod': RandomForestRegressor(bootstrap=True, criterion='mse', max_depth=5,\n             max_features='auto', max_leaf_nodes=None,\n             min_impurity_split=1e-07, min_samples_leaf=1,\n             min_samples_split=2, min_weight_fraction_leaf=0.0,\n             n_estimators=50, n_jobs=1, oob_score=False, random_state=43,\n             verbose=0, warm_start=False), 'name': 'RFR'}]"
      ]
     },
     "execution_count": 90,
     "metadata": {},
     "output_type": "execute_result"
    }
   ],
   "source": [
    "ml.mod_list"
   ]
  },
  {
   "cell_type": "code",
   "execution_count": 47,
   "metadata": {},
   "outputs": [
    {
     "data": {
      "text/plain": [
       "float64      1\nint64      128\nobject       7\ndtype: int64"
      ]
     },
     "execution_count": 47,
     "metadata": {},
     "output_type": "execute_result"
    }
   ],
   "source": [
    "ml.all_df.describe()\n",
    "ml.all_df.get_dtype_counts()"
   ]
  },
  {
   "cell_type": "code",
   "execution_count": 28,
   "metadata": {},
   "outputs": [
    {
     "data": {
      "text/html": [
       "<div>\n",
       "<style>\n",
       "    .dataframe thead tr:only-child th {\n",
       "        text-align: right;\n",
       "    }\n",
       "\n",
       "    .dataframe thead th {\n",
       "        text-align: left;\n",
       "    }\n",
       "\n",
       "    .dataframe tbody tr th {\n",
       "        vertical-align: top;\n",
       "    }\n",
       "</style>\n",
       "<table border=\"1\" class=\"dataframe\">\n",
       "  <thead>\n",
       "    <tr style=\"text-align: right;\">\n",
       "      <th></th>\n",
       "      <th>ID</th>\n",
       "      <th>X10</th>\n",
       "      <th>X11</th>\n",
       "      <th>X12</th>\n",
       "      <th>X13</th>\n",
       "      <th>X14</th>\n",
       "      <th>X15</th>\n",
       "      <th>X16</th>\n",
       "      <th>X17</th>\n",
       "      <th>X18</th>\n",
       "      <th>...</th>\n",
       "      <th>X377</th>\n",
       "      <th>X378</th>\n",
       "      <th>X379</th>\n",
       "      <th>X380</th>\n",
       "      <th>X382</th>\n",
       "      <th>X383</th>\n",
       "      <th>X384</th>\n",
       "      <th>X385</th>\n",
       "      <th>y</th>\n",
       "      <th>col_is_train</th>\n",
       "    </tr>\n",
       "  </thead>\n",
       "  <tbody>\n",
       "    <tr>\n",
       "      <th>count</th>\n",
       "      <td>4209.000000</td>\n",
       "      <td>4209.000000</td>\n",
       "      <td>4209.000000</td>\n",
       "      <td>4209.000000</td>\n",
       "      <td>4209.000000</td>\n",
       "      <td>4209.000000</td>\n",
       "      <td>4209.000000</td>\n",
       "      <td>4209.000000</td>\n",
       "      <td>4209.000000</td>\n",
       "      <td>4209.000000</td>\n",
       "      <td>...</td>\n",
       "      <td>4209.000000</td>\n",
       "      <td>4209.000000</td>\n",
       "      <td>4209.000000</td>\n",
       "      <td>4209.000000</td>\n",
       "      <td>4209.000000</td>\n",
       "      <td>4209.000000</td>\n",
       "      <td>4209.000000</td>\n",
       "      <td>4209.000000</td>\n",
       "      <td>4209.0</td>\n",
       "      <td>4209.0</td>\n",
       "    </tr>\n",
       "    <tr>\n",
       "      <th>mean</th>\n",
       "      <td>4211.039202</td>\n",
       "      <td>0.019007</td>\n",
       "      <td>0.000238</td>\n",
       "      <td>0.074364</td>\n",
       "      <td>0.061060</td>\n",
       "      <td>0.427893</td>\n",
       "      <td>0.000713</td>\n",
       "      <td>0.002613</td>\n",
       "      <td>0.008791</td>\n",
       "      <td>0.010216</td>\n",
       "      <td>...</td>\n",
       "      <td>0.311951</td>\n",
       "      <td>0.019244</td>\n",
       "      <td>0.011879</td>\n",
       "      <td>0.008078</td>\n",
       "      <td>0.008791</td>\n",
       "      <td>0.000475</td>\n",
       "      <td>0.000713</td>\n",
       "      <td>0.001663</td>\n",
       "      <td>0.0</td>\n",
       "      <td>0.0</td>\n",
       "    </tr>\n",
       "    <tr>\n",
       "      <th>std</th>\n",
       "      <td>2423.078926</td>\n",
       "      <td>0.136565</td>\n",
       "      <td>0.015414</td>\n",
       "      <td>0.262394</td>\n",
       "      <td>0.239468</td>\n",
       "      <td>0.494832</td>\n",
       "      <td>0.026691</td>\n",
       "      <td>0.051061</td>\n",
       "      <td>0.093357</td>\n",
       "      <td>0.100570</td>\n",
       "      <td>...</td>\n",
       "      <td>0.463345</td>\n",
       "      <td>0.137399</td>\n",
       "      <td>0.108356</td>\n",
       "      <td>0.089524</td>\n",
       "      <td>0.093357</td>\n",
       "      <td>0.021796</td>\n",
       "      <td>0.026691</td>\n",
       "      <td>0.040752</td>\n",
       "      <td>0.0</td>\n",
       "      <td>0.0</td>\n",
       "    </tr>\n",
       "    <tr>\n",
       "      <th>min</th>\n",
       "      <td>1.000000</td>\n",
       "      <td>0.000000</td>\n",
       "      <td>0.000000</td>\n",
       "      <td>0.000000</td>\n",
       "      <td>0.000000</td>\n",
       "      <td>0.000000</td>\n",
       "      <td>0.000000</td>\n",
       "      <td>0.000000</td>\n",
       "      <td>0.000000</td>\n",
       "      <td>0.000000</td>\n",
       "      <td>...</td>\n",
       "      <td>0.000000</td>\n",
       "      <td>0.000000</td>\n",
       "      <td>0.000000</td>\n",
       "      <td>0.000000</td>\n",
       "      <td>0.000000</td>\n",
       "      <td>0.000000</td>\n",
       "      <td>0.000000</td>\n",
       "      <td>0.000000</td>\n",
       "      <td>0.0</td>\n",
       "      <td>0.0</td>\n",
       "    </tr>\n",
       "    <tr>\n",
       "      <th>25%</th>\n",
       "      <td>2115.000000</td>\n",
       "      <td>0.000000</td>\n",
       "      <td>0.000000</td>\n",
       "      <td>0.000000</td>\n",
       "      <td>0.000000</td>\n",
       "      <td>0.000000</td>\n",
       "      <td>0.000000</td>\n",
       "      <td>0.000000</td>\n",
       "      <td>0.000000</td>\n",
       "      <td>0.000000</td>\n",
       "      <td>...</td>\n",
       "      <td>0.000000</td>\n",
       "      <td>0.000000</td>\n",
       "      <td>0.000000</td>\n",
       "      <td>0.000000</td>\n",
       "      <td>0.000000</td>\n",
       "      <td>0.000000</td>\n",
       "      <td>0.000000</td>\n",
       "      <td>0.000000</td>\n",
       "      <td>0.0</td>\n",
       "      <td>0.0</td>\n",
       "    </tr>\n",
       "    <tr>\n",
       "      <th>50%</th>\n",
       "      <td>4202.000000</td>\n",
       "      <td>0.000000</td>\n",
       "      <td>0.000000</td>\n",
       "      <td>0.000000</td>\n",
       "      <td>0.000000</td>\n",
       "      <td>0.000000</td>\n",
       "      <td>0.000000</td>\n",
       "      <td>0.000000</td>\n",
       "      <td>0.000000</td>\n",
       "      <td>0.000000</td>\n",
       "      <td>...</td>\n",
       "      <td>0.000000</td>\n",
       "      <td>0.000000</td>\n",
       "      <td>0.000000</td>\n",
       "      <td>0.000000</td>\n",
       "      <td>0.000000</td>\n",
       "      <td>0.000000</td>\n",
       "      <td>0.000000</td>\n",
       "      <td>0.000000</td>\n",
       "      <td>0.0</td>\n",
       "      <td>0.0</td>\n",
       "    </tr>\n",
       "    <tr>\n",
       "      <th>75%</th>\n",
       "      <td>6310.000000</td>\n",
       "      <td>0.000000</td>\n",
       "      <td>0.000000</td>\n",
       "      <td>0.000000</td>\n",
       "      <td>0.000000</td>\n",
       "      <td>1.000000</td>\n",
       "      <td>0.000000</td>\n",
       "      <td>0.000000</td>\n",
       "      <td>0.000000</td>\n",
       "      <td>0.000000</td>\n",
       "      <td>...</td>\n",
       "      <td>1.000000</td>\n",
       "      <td>0.000000</td>\n",
       "      <td>0.000000</td>\n",
       "      <td>0.000000</td>\n",
       "      <td>0.000000</td>\n",
       "      <td>0.000000</td>\n",
       "      <td>0.000000</td>\n",
       "      <td>0.000000</td>\n",
       "      <td>0.0</td>\n",
       "      <td>0.0</td>\n",
       "    </tr>\n",
       "    <tr>\n",
       "      <th>max</th>\n",
       "      <td>8416.000000</td>\n",
       "      <td>1.000000</td>\n",
       "      <td>1.000000</td>\n",
       "      <td>1.000000</td>\n",
       "      <td>1.000000</td>\n",
       "      <td>1.000000</td>\n",
       "      <td>1.000000</td>\n",
       "      <td>1.000000</td>\n",
       "      <td>1.000000</td>\n",
       "      <td>1.000000</td>\n",
       "      <td>...</td>\n",
       "      <td>1.000000</td>\n",
       "      <td>1.000000</td>\n",
       "      <td>1.000000</td>\n",
       "      <td>1.000000</td>\n",
       "      <td>1.000000</td>\n",
       "      <td>1.000000</td>\n",
       "      <td>1.000000</td>\n",
       "      <td>1.000000</td>\n",
       "      <td>0.0</td>\n",
       "      <td>0.0</td>\n",
       "    </tr>\n",
       "  </tbody>\n",
       "</table>\n",
       "<p>8 rows × 371 columns</p>\n",
       "</div>"
      ],
      "text/plain": [
       "<div>\n",
       "<style>\n",
       "    .dataframe thead tr:only-child th {\n",
       "        text-align: right;\n",
       "    }\n",
       "\n",
       "    .dataframe thead th {\n",
       "        text-align: left;\n",
       "    }\n",
       "\n",
       "    .dataframe tbody tr th {\n",
       "        vertical-align: top;\n",
       "    }\n",
       "</style>\n",
       "<table border=\"1\" class=\"dataframe\">\n",
       "  <thead>\n",
       "    <tr style=\"text-align: right;\">\n",
       "      <th></th>\n",
       "      <th>ID</th>\n",
       "      <th>X10</th>\n",
       "      <th>X11</th>\n",
       "      <th>X12</th>\n",
       "      <th>X13</th>\n",
       "      <th>X14</th>\n",
       "      <th>X15</th>\n",
       "      <th>X16</th>\n",
       "      <th>X17</th>\n",
       "      <th>X18</th>\n",
       "      <th>...</th>\n",
       "      <th>X377</th>\n",
       "      <th>X378</th>\n",
       "      <th>X379</th>\n",
       "      <th>X380</th>\n",
       "      <th>X382</th>\n",
       "      <th>X383</th>\n",
       "      <th>X384</th>\n",
       "      <th>X385</th>\n",
       "      <th>y</th>\n",
       "      <th>col_is_train</th>\n",
       "    </tr>\n",
       "  </thead>\n",
       "  <tbody>\n",
       "    <tr>\n",
       "      <th>count</th>\n",
       "      <td>4209.000000</td>\n",
       "      <td>4209.000000</td>\n",
       "      <td>4209.000000</td>\n",
       "      <td>4209.000000</td>\n",
       "      <td>4209.000000</td>\n",
       "      <td>4209.000000</td>\n",
       "      <td>4209.000000</td>\n",
       "      <td>4209.000000</td>\n",
       "      <td>4209.000000</td>\n",
       "      <td>4209.000000</td>\n",
       "      <td>...</td>\n",
       "      <td>4209.000000</td>\n",
       "      <td>4209.000000</td>\n",
       "      <td>4209.000000</td>\n",
       "      <td>4209.000000</td>\n",
       "      <td>4209.000000</td>\n",
       "      <td>4209.000000</td>\n",
       "      <td>4209.000000</td>\n",
       "      <td>4209.000000</td>\n",
       "      <td>4209.0</td>\n",
       "      <td>4209.0</td>\n",
       "    </tr>\n",
       "    <tr>\n",
       "      <th>mean</th>\n",
       "      <td>4211.039202</td>\n",
       "      <td>0.019007</td>\n",
       "      <td>0.000238</td>\n",
       "      <td>0.074364</td>\n",
       "      <td>0.061060</td>\n",
       "      <td>0.427893</td>\n",
       "      <td>0.000713</td>\n",
       "      <td>0.002613</td>\n",
       "      <td>0.008791</td>\n",
       "      <td>0.010216</td>\n",
       "      <td>...</td>\n",
       "      <td>0.311951</td>\n",
       "      <td>0.019244</td>\n",
       "      <td>0.011879</td>\n",
       "      <td>0.008078</td>\n",
       "      <td>0.008791</td>\n",
       "      <td>0.000475</td>\n",
       "      <td>0.000713</td>\n",
       "      <td>0.001663</td>\n",
       "      <td>0.0</td>\n",
       "      <td>0.0</td>\n",
       "    </tr>\n",
       "    <tr>\n",
       "      <th>std</th>\n",
       "      <td>2423.078926</td>\n",
       "      <td>0.136565</td>\n",
       "      <td>0.015414</td>\n",
       "      <td>0.262394</td>\n",
       "      <td>0.239468</td>\n",
       "      <td>0.494832</td>\n",
       "      <td>0.026691</td>\n",
       "      <td>0.051061</td>\n",
       "      <td>0.093357</td>\n",
       "      <td>0.100570</td>\n",
       "      <td>...</td>\n",
       "      <td>0.463345</td>\n",
       "      <td>0.137399</td>\n",
       "      <td>0.108356</td>\n",
       "      <td>0.089524</td>\n",
       "      <td>0.093357</td>\n",
       "      <td>0.021796</td>\n",
       "      <td>0.026691</td>\n",
       "      <td>0.040752</td>\n",
       "      <td>0.0</td>\n",
       "      <td>0.0</td>\n",
       "    </tr>\n",
       "    <tr>\n",
       "      <th>min</th>\n",
       "      <td>1.000000</td>\n",
       "      <td>0.000000</td>\n",
       "      <td>0.000000</td>\n",
       "      <td>0.000000</td>\n",
       "      <td>0.000000</td>\n",
       "      <td>0.000000</td>\n",
       "      <td>0.000000</td>\n",
       "      <td>0.000000</td>\n",
       "      <td>0.000000</td>\n",
       "      <td>0.000000</td>\n",
       "      <td>...</td>\n",
       "      <td>0.000000</td>\n",
       "      <td>0.000000</td>\n",
       "      <td>0.000000</td>\n",
       "      <td>0.000000</td>\n",
       "      <td>0.000000</td>\n",
       "      <td>0.000000</td>\n",
       "      <td>0.000000</td>\n",
       "      <td>0.000000</td>\n",
       "      <td>0.0</td>\n",
       "      <td>0.0</td>\n",
       "    </tr>\n",
       "    <tr>\n",
       "      <th>25%</th>\n",
       "      <td>2115.000000</td>\n",
       "      <td>0.000000</td>\n",
       "      <td>0.000000</td>\n",
       "      <td>0.000000</td>\n",
       "      <td>0.000000</td>\n",
       "      <td>0.000000</td>\n",
       "      <td>0.000000</td>\n",
       "      <td>0.000000</td>\n",
       "      <td>0.000000</td>\n",
       "      <td>0.000000</td>\n",
       "      <td>...</td>\n",
       "      <td>0.000000</td>\n",
       "      <td>0.000000</td>\n",
       "      <td>0.000000</td>\n",
       "      <td>0.000000</td>\n",
       "      <td>0.000000</td>\n",
       "      <td>0.000000</td>\n",
       "      <td>0.000000</td>\n",
       "      <td>0.000000</td>\n",
       "      <td>0.0</td>\n",
       "      <td>0.0</td>\n",
       "    </tr>\n",
       "    <tr>\n",
       "      <th>50%</th>\n",
       "      <td>4202.000000</td>\n",
       "      <td>0.000000</td>\n",
       "      <td>0.000000</td>\n",
       "      <td>0.000000</td>\n",
       "      <td>0.000000</td>\n",
       "      <td>0.000000</td>\n",
       "      <td>0.000000</td>\n",
       "      <td>0.000000</td>\n",
       "      <td>0.000000</td>\n",
       "      <td>0.000000</td>\n",
       "      <td>...</td>\n",
       "      <td>0.000000</td>\n",
       "      <td>0.000000</td>\n",
       "      <td>0.000000</td>\n",
       "      <td>0.000000</td>\n",
       "      <td>0.000000</td>\n",
       "      <td>0.000000</td>\n",
       "      <td>0.000000</td>\n",
       "      <td>0.000000</td>\n",
       "      <td>0.0</td>\n",
       "      <td>0.0</td>\n",
       "    </tr>\n",
       "    <tr>\n",
       "      <th>75%</th>\n",
       "      <td>6310.000000</td>\n",
       "      <td>0.000000</td>\n",
       "      <td>0.000000</td>\n",
       "      <td>0.000000</td>\n",
       "      <td>0.000000</td>\n",
       "      <td>1.000000</td>\n",
       "      <td>0.000000</td>\n",
       "      <td>0.000000</td>\n",
       "      <td>0.000000</td>\n",
       "      <td>0.000000</td>\n",
       "      <td>...</td>\n",
       "      <td>1.000000</td>\n",
       "      <td>0.000000</td>\n",
       "      <td>0.000000</td>\n",
       "      <td>0.000000</td>\n",
       "      <td>0.000000</td>\n",
       "      <td>0.000000</td>\n",
       "      <td>0.000000</td>\n",
       "      <td>0.000000</td>\n",
       "      <td>0.0</td>\n",
       "      <td>0.0</td>\n",
       "    </tr>\n",
       "    <tr>\n",
       "      <th>max</th>\n",
       "      <td>8416.000000</td>\n",
       "      <td>1.000000</td>\n",
       "      <td>1.000000</td>\n",
       "      <td>1.000000</td>\n",
       "      <td>1.000000</td>\n",
       "      <td>1.000000</td>\n",
       "      <td>1.000000</td>\n",
       "      <td>1.000000</td>\n",
       "      <td>1.000000</td>\n",
       "      <td>1.000000</td>\n",
       "      <td>...</td>\n",
       "      <td>1.000000</td>\n",
       "      <td>1.000000</td>\n",
       "      <td>1.000000</td>\n",
       "      <td>1.000000</td>\n",
       "      <td>1.000000</td>\n",
       "      <td>1.000000</td>\n",
       "      <td>1.000000</td>\n",
       "      <td>1.000000</td>\n",
       "      <td>0.0</td>\n",
       "      <td>0.0</td>\n",
       "    </tr>\n",
       "  </tbody>\n",
       "</table>\n",
       "<p>8 rows × 371 columns</p>\n",
       "</div>"
      ]
     },
     "execution_count": 28,
     "metadata": {},
     "output_type": "execute_result"
    }
   ],
   "source": [
    "ml.test_df.describe()"
   ]
  }
 ],
 "metadata": {
  "kernelspec": {
   "display_name": "Python 2",
   "language": "python",
   "name": "python2"
  },
  "language_info": {
   "codemirror_mode": {
    "name": "ipython",
    "version": 2.0
   },
   "file_extension": ".py",
   "mimetype": "text/x-python",
   "name": "python",
   "nbconvert_exporter": "python",
   "pygments_lexer": "ipython2",
   "version": "2.7.6"
  }
 },
 "nbformat": 4,
 "nbformat_minor": 0
}